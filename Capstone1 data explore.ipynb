{
 "cells": [
  {
   "cell_type": "code",
   "execution_count": 2,
   "metadata": {},
   "outputs": [
    {
     "data": {
      "text/html": [
       "<div>\n",
       "<style scoped>\n",
       "    .dataframe tbody tr th:only-of-type {\n",
       "        vertical-align: middle;\n",
       "    }\n",
       "\n",
       "    .dataframe tbody tr th {\n",
       "        vertical-align: top;\n",
       "    }\n",
       "\n",
       "    .dataframe thead th {\n",
       "        text-align: right;\n",
       "    }\n",
       "</style>\n",
       "<table border=\"1\" class=\"dataframe\">\n",
       "  <thead>\n",
       "    <tr style=\"text-align: right;\">\n",
       "      <th></th>\n",
       "      <th>InvoiceNo</th>\n",
       "      <th>StockCode</th>\n",
       "      <th>Description</th>\n",
       "      <th>Quantity</th>\n",
       "      <th>InvoiceDate</th>\n",
       "      <th>UnitPrice</th>\n",
       "      <th>CustomerID</th>\n",
       "      <th>Country</th>\n",
       "    </tr>\n",
       "  </thead>\n",
       "  <tbody>\n",
       "    <tr>\n",
       "      <td>0</td>\n",
       "      <td>536365</td>\n",
       "      <td>85123A</td>\n",
       "      <td>WHITE HANGING HEART T-LIGHT HOLDER</td>\n",
       "      <td>6</td>\n",
       "      <td>2010-12-01 08:26:00</td>\n",
       "      <td>2.55</td>\n",
       "      <td>17850.0</td>\n",
       "      <td>United Kingdom</td>\n",
       "    </tr>\n",
       "    <tr>\n",
       "      <td>1</td>\n",
       "      <td>536365</td>\n",
       "      <td>71053</td>\n",
       "      <td>WHITE METAL LANTERN</td>\n",
       "      <td>6</td>\n",
       "      <td>2010-12-01 08:26:00</td>\n",
       "      <td>3.39</td>\n",
       "      <td>17850.0</td>\n",
       "      <td>United Kingdom</td>\n",
       "    </tr>\n",
       "    <tr>\n",
       "      <td>2</td>\n",
       "      <td>536365</td>\n",
       "      <td>84406B</td>\n",
       "      <td>CREAM CUPID HEARTS COAT HANGER</td>\n",
       "      <td>8</td>\n",
       "      <td>2010-12-01 08:26:00</td>\n",
       "      <td>2.75</td>\n",
       "      <td>17850.0</td>\n",
       "      <td>United Kingdom</td>\n",
       "    </tr>\n",
       "    <tr>\n",
       "      <td>3</td>\n",
       "      <td>536365</td>\n",
       "      <td>84029G</td>\n",
       "      <td>KNITTED UNION FLAG HOT WATER BOTTLE</td>\n",
       "      <td>6</td>\n",
       "      <td>2010-12-01 08:26:00</td>\n",
       "      <td>3.39</td>\n",
       "      <td>17850.0</td>\n",
       "      <td>United Kingdom</td>\n",
       "    </tr>\n",
       "    <tr>\n",
       "      <td>4</td>\n",
       "      <td>536365</td>\n",
       "      <td>84029E</td>\n",
       "      <td>RED WOOLLY HOTTIE WHITE HEART.</td>\n",
       "      <td>6</td>\n",
       "      <td>2010-12-01 08:26:00</td>\n",
       "      <td>3.39</td>\n",
       "      <td>17850.0</td>\n",
       "      <td>United Kingdom</td>\n",
       "    </tr>\n",
       "  </tbody>\n",
       "</table>\n",
       "</div>"
      ],
      "text/plain": [
       "  InvoiceNo StockCode                          Description  Quantity  \\\n",
       "0    536365    85123A   WHITE HANGING HEART T-LIGHT HOLDER         6   \n",
       "1    536365     71053                  WHITE METAL LANTERN         6   \n",
       "2    536365    84406B       CREAM CUPID HEARTS COAT HANGER         8   \n",
       "3    536365    84029G  KNITTED UNION FLAG HOT WATER BOTTLE         6   \n",
       "4    536365    84029E       RED WOOLLY HOTTIE WHITE HEART.         6   \n",
       "\n",
       "          InvoiceDate  UnitPrice  CustomerID         Country  \n",
       "0 2010-12-01 08:26:00       2.55     17850.0  United Kingdom  \n",
       "1 2010-12-01 08:26:00       3.39     17850.0  United Kingdom  \n",
       "2 2010-12-01 08:26:00       2.75     17850.0  United Kingdom  \n",
       "3 2010-12-01 08:26:00       3.39     17850.0  United Kingdom  \n",
       "4 2010-12-01 08:26:00       3.39     17850.0  United Kingdom  "
      ]
     },
     "execution_count": 2,
     "metadata": {},
     "output_type": "execute_result"
    }
   ],
   "source": [
    "import pandas as pd\n",
    "filename = 'C:/Users/diaga/OneDrive/Documents/Springboard/Online Retail.xlsx'\n",
    "data = pd.read_excel(filename)\n",
    "data.head()"
   ]
  },
  {
   "cell_type": "markdown",
   "metadata": {},
   "source": []
  },
  {
   "cell_type": "code",
   "execution_count": 291,
   "metadata": {},
   "outputs": [
    {
     "name": "stdout",
     "output_type": "stream",
     "text": [
      "InvoiceNo              object\n",
      "StockCode              object\n",
      "Description            object\n",
      "Quantity                int64\n",
      "InvoiceDate    datetime64[ns]\n",
      "UnitPrice             float64\n",
      "CustomerID            float64\n",
      "Country                object\n",
      "dtype: object\n",
      "Number of countries 38\n"
     ]
    }
   ],
   "source": [
    "print(data.dtypes)\n",
    "print('Number of countries', data.Country.nunique())"
   ]
  },
  {
   "cell_type": "code",
   "execution_count": 4,
   "metadata": {},
   "outputs": [
    {
     "data": {
      "text/plain": [
       "135080"
      ]
     },
     "execution_count": 4,
     "metadata": {},
     "output_type": "execute_result"
    }
   ],
   "source": [
    "#len(data[data.UnitPrice < 0 ])\n",
    "len(data[data.CustomerID.isna()])\n",
    "#data[data.CustomerID.isna()].groupby('Country').count()\n",
    "#data[data.CustomerID.isna()].groupby(['Country','Description'])['InvoiceNo'].count().sort_values(ascending=False).head(60)"
   ]
  },
  {
   "cell_type": "code",
   "execution_count": 5,
   "metadata": {},
   "outputs": [
    {
     "name": "stdout",
     "output_type": "stream",
     "text": [
      "       InvoiceNo StockCode      Description  Quantity         InvoiceDate  \\\n",
      "299983   A563186         B  Adjust bad debt         1 2011-08-12 14:51:00   \n",
      "299984   A563187         B  Adjust bad debt         1 2011-08-12 14:52:00   \n",
      "\n",
      "        UnitPrice  CustomerID         Country  \n",
      "299983  -11062.06         NaN  United Kingdom  \n",
      "299984  -11062.06         NaN  United Kingdom  \n"
     ]
    }
   ],
   "source": [
    "len(data[data.UnitPrice < 0 ])\n",
    "print(data[data.UnitPrice < 0 ])"
   ]
  },
  {
   "cell_type": "code",
   "execution_count": 6,
   "metadata": {},
   "outputs": [
    {
     "data": {
      "text/plain": [
       "541909"
      ]
     },
     "execution_count": 6,
     "metadata": {},
     "output_type": "execute_result"
    }
   ],
   "source": [
    "len(data)"
   ]
  },
  {
   "cell_type": "code",
   "execution_count": 7,
   "metadata": {},
   "outputs": [
    {
     "data": {
      "text/plain": [
       "8905"
      ]
     },
     "execution_count": 7,
     "metadata": {},
     "output_type": "execute_result"
    }
   ],
   "source": [
    "data_clean = data[data['CustomerID'].notna()]\n",
    "len(data_clean[data_clean.Quantity < 0 ])"
   ]
  },
  {
   "cell_type": "code",
   "execution_count": 8,
   "metadata": {},
   "outputs": [
    {
     "data": {
      "text/plain": [
       "406829"
      ]
     },
     "execution_count": 8,
     "metadata": {},
     "output_type": "execute_result"
    }
   ],
   "source": [
    "#data_clean = data_clean[data_clean['Quantity']]\n",
    "len(data_clean)"
   ]
  },
  {
   "cell_type": "code",
   "execution_count": 9,
   "metadata": {},
   "outputs": [
    {
     "data": {
      "text/plain": [
       "StockCode    3684\n",
       "Quantity      436\n",
       "Country        37\n",
       "UnitPrice     620\n",
       "dtype: int64"
      ]
     },
     "execution_count": 9,
     "metadata": {},
     "output_type": "execute_result"
    }
   ],
   "source": [
    "data_clean[['StockCode','Quantity','Country','UnitPrice']].nunique()"
   ]
  },
  {
   "cell_type": "code",
   "execution_count": 10,
   "metadata": {},
   "outputs": [
    {
     "data": {
      "text/plain": [
       "StockCode\n",
       "M       184\n",
       "D        75\n",
       "POST     71\n",
       "DOT      16\n",
       "CRUK     16\n",
       "Name: UnitPrice, dtype: int64"
      ]
     },
     "execution_count": 10,
     "metadata": {},
     "output_type": "execute_result"
    }
   ],
   "source": [
    "data_clean.groupby(['StockCode'])['UnitPrice'].nunique().sort_values(ascending=False).head()"
   ]
  },
  {
   "cell_type": "code",
   "execution_count": 69,
   "metadata": {},
   "outputs": [
    {
     "data": {
      "text/plain": [
       "2642"
      ]
     },
     "execution_count": 69,
     "metadata": {},
     "output_type": "execute_result"
    }
   ],
   "source": [
    "test = data_clean.groupby(['StockCode'])['UnitPrice'].nunique()\n",
    "test[test>1].count()"
   ]
  },
  {
   "cell_type": "code",
   "execution_count": null,
   "metadata": {},
   "outputs": [],
   "source": [
    "#import matplotlib.pyplot as plt\n",
    "#_ = plt.hist(data_clean['UnitPrice'])\n",
    "#plt.show()"
   ]
  },
  {
   "cell_type": "code",
   "execution_count": 11,
   "metadata": {},
   "outputs": [
    {
     "name": "stderr",
     "output_type": "stream",
     "text": [
      "C:\\Users\\diaga\\Anaconda3\\lib\\site-packages\\pandas\\core\\indexing.py:376: SettingWithCopyWarning: \n",
      "A value is trying to be set on a copy of a slice from a DataFrame.\n",
      "Try using .loc[row_indexer,col_indexer] = value instead\n",
      "\n",
      "See the caveats in the documentation: http://pandas.pydata.org/pandas-docs/stable/user_guide/indexing.html#returning-a-view-versus-a-copy\n",
      "  self.obj[key] = _infer_fill_value(value)\n",
      "C:\\Users\\diaga\\Anaconda3\\lib\\site-packages\\pandas\\core\\indexing.py:494: SettingWithCopyWarning: \n",
      "A value is trying to be set on a copy of a slice from a DataFrame.\n",
      "Try using .loc[row_indexer,col_indexer] = value instead\n",
      "\n",
      "See the caveats in the documentation: http://pandas.pydata.org/pandas-docs/stable/user_guide/indexing.html#returning-a-view-versus-a-copy\n",
      "  self.obj[item] = s\n"
     ]
    },
    {
     "data": {
      "text/html": [
       "<div>\n",
       "<style scoped>\n",
       "    .dataframe tbody tr th:only-of-type {\n",
       "        vertical-align: middle;\n",
       "    }\n",
       "\n",
       "    .dataframe tbody tr th {\n",
       "        vertical-align: top;\n",
       "    }\n",
       "\n",
       "    .dataframe thead th {\n",
       "        text-align: right;\n",
       "    }\n",
       "</style>\n",
       "<table border=\"1\" class=\"dataframe\">\n",
       "  <thead>\n",
       "    <tr style=\"text-align: right;\">\n",
       "      <th></th>\n",
       "      <th>InvoiceNo</th>\n",
       "      <th>StockCode</th>\n",
       "      <th>Description</th>\n",
       "      <th>Quantity</th>\n",
       "      <th>InvoiceDate</th>\n",
       "      <th>UnitPrice</th>\n",
       "      <th>CustomerID</th>\n",
       "      <th>Country</th>\n",
       "      <th>Invoice_DAY</th>\n",
       "      <th>InvoiceCost</th>\n",
       "    </tr>\n",
       "  </thead>\n",
       "  <tbody>\n",
       "    <tr>\n",
       "      <td>0</td>\n",
       "      <td>536365</td>\n",
       "      <td>85123A</td>\n",
       "      <td>WHITE HANGING HEART T-LIGHT HOLDER</td>\n",
       "      <td>6</td>\n",
       "      <td>2010-12-01 08:26:00</td>\n",
       "      <td>2.55</td>\n",
       "      <td>17850.0</td>\n",
       "      <td>United Kingdom</td>\n",
       "      <td>12/01/2010</td>\n",
       "      <td>15.30</td>\n",
       "    </tr>\n",
       "    <tr>\n",
       "      <td>1</td>\n",
       "      <td>536365</td>\n",
       "      <td>71053</td>\n",
       "      <td>WHITE METAL LANTERN</td>\n",
       "      <td>6</td>\n",
       "      <td>2010-12-01 08:26:00</td>\n",
       "      <td>3.39</td>\n",
       "      <td>17850.0</td>\n",
       "      <td>United Kingdom</td>\n",
       "      <td>12/01/2010</td>\n",
       "      <td>20.34</td>\n",
       "    </tr>\n",
       "    <tr>\n",
       "      <td>2</td>\n",
       "      <td>536365</td>\n",
       "      <td>84406B</td>\n",
       "      <td>CREAM CUPID HEARTS COAT HANGER</td>\n",
       "      <td>8</td>\n",
       "      <td>2010-12-01 08:26:00</td>\n",
       "      <td>2.75</td>\n",
       "      <td>17850.0</td>\n",
       "      <td>United Kingdom</td>\n",
       "      <td>12/01/2010</td>\n",
       "      <td>22.00</td>\n",
       "    </tr>\n",
       "    <tr>\n",
       "      <td>3</td>\n",
       "      <td>536365</td>\n",
       "      <td>84029G</td>\n",
       "      <td>KNITTED UNION FLAG HOT WATER BOTTLE</td>\n",
       "      <td>6</td>\n",
       "      <td>2010-12-01 08:26:00</td>\n",
       "      <td>3.39</td>\n",
       "      <td>17850.0</td>\n",
       "      <td>United Kingdom</td>\n",
       "      <td>12/01/2010</td>\n",
       "      <td>20.34</td>\n",
       "    </tr>\n",
       "    <tr>\n",
       "      <td>4</td>\n",
       "      <td>536365</td>\n",
       "      <td>84029E</td>\n",
       "      <td>RED WOOLLY HOTTIE WHITE HEART.</td>\n",
       "      <td>6</td>\n",
       "      <td>2010-12-01 08:26:00</td>\n",
       "      <td>3.39</td>\n",
       "      <td>17850.0</td>\n",
       "      <td>United Kingdom</td>\n",
       "      <td>12/01/2010</td>\n",
       "      <td>20.34</td>\n",
       "    </tr>\n",
       "  </tbody>\n",
       "</table>\n",
       "</div>"
      ],
      "text/plain": [
       "  InvoiceNo StockCode                          Description  Quantity  \\\n",
       "0    536365    85123A   WHITE HANGING HEART T-LIGHT HOLDER         6   \n",
       "1    536365     71053                  WHITE METAL LANTERN         6   \n",
       "2    536365    84406B       CREAM CUPID HEARTS COAT HANGER         8   \n",
       "3    536365    84029G  KNITTED UNION FLAG HOT WATER BOTTLE         6   \n",
       "4    536365    84029E       RED WOOLLY HOTTIE WHITE HEART.         6   \n",
       "\n",
       "          InvoiceDate  UnitPrice  CustomerID         Country Invoice_DAY  \\\n",
       "0 2010-12-01 08:26:00       2.55     17850.0  United Kingdom  12/01/2010   \n",
       "1 2010-12-01 08:26:00       3.39     17850.0  United Kingdom  12/01/2010   \n",
       "2 2010-12-01 08:26:00       2.75     17850.0  United Kingdom  12/01/2010   \n",
       "3 2010-12-01 08:26:00       3.39     17850.0  United Kingdom  12/01/2010   \n",
       "4 2010-12-01 08:26:00       3.39     17850.0  United Kingdom  12/01/2010   \n",
       "\n",
       "   InvoiceCost  \n",
       "0        15.30  \n",
       "1        20.34  \n",
       "2        22.00  \n",
       "3        20.34  \n",
       "4        20.34  "
      ]
     },
     "execution_count": 11,
     "metadata": {},
     "output_type": "execute_result"
    }
   ],
   "source": [
    "from datetime import datetime\n",
    "data_clean.loc[:,'Invoice_DAY'] = pd.to_datetime(data_clean.loc[:,'InvoiceDate']).dt.strftime('%m/%d/%Y').copy()\n",
    "data_clean.loc[:,'InvoiceCost'] = data_clean.loc[:,'Quantity'] * data_clean.loc[:,'UnitPrice'].copy()\n",
    "data_clean.head()"
   ]
  },
  {
   "cell_type": "code",
   "execution_count": 17,
   "metadata": {},
   "outputs": [
    {
     "data": {
      "text/plain": [
       "InvoiceNo              object\n",
       "StockCode              object\n",
       "Description            object\n",
       "Quantity                int64\n",
       "InvoiceDate    datetime64[ns]\n",
       "UnitPrice             float64\n",
       "CustomerID            float64\n",
       "Country                object\n",
       "Invoice_DAY    datetime64[ns]\n",
       "InvoiceCost           float64\n",
       "dtype: object"
      ]
     },
     "execution_count": 17,
     "metadata": {},
     "output_type": "execute_result"
    }
   ],
   "source": [
    "data_clean.loc[:,'Invoice_DAY'] = pd.to_datetime(data_clean.loc[:,'Invoice_DAY'])\n",
    "data_clean.dtypes"
   ]
  },
  {
   "cell_type": "code",
   "execution_count": 32,
   "metadata": {},
   "outputs": [
    {
     "name": "stdout",
     "output_type": "stream",
     "text": [
      "             Quantity  pandas_SMA_7  pandas_SMA_28\n",
      "Invoice_DAY                                       \n",
      "2010-12-01      24032           NaN            NaN\n",
      "2010-12-02      20855           NaN            NaN\n",
      "2010-12-03      11548           NaN            NaN\n",
      "2010-12-05      16394           NaN            NaN\n",
      "2010-12-06      16095           NaN            NaN\n",
      "2010-12-07      19351           NaN            NaN\n",
      "2010-12-08      21275  18507.142857            NaN\n",
      "2010-12-09      16904  17488.857143            NaN\n",
      "2010-12-10      15388  16707.857143            NaN\n",
      "2010-12-12      10561  16566.857143            NaN\n",
      "2010-12-13      15234  16401.142857            NaN\n",
      "2010-12-14      17108  16545.857143            NaN\n",
      "2010-12-15      18169  16377.000000            NaN\n",
      "2010-12-16      29482  17549.428571            NaN\n",
      "2010-12-17      10517  16637.000000            NaN\n",
      "2010-12-19       3735  14972.285714            NaN\n",
      "2010-12-20      12617  15266.000000            NaN\n",
      "2010-12-21      10888  14645.142857            NaN\n",
      "2010-12-22       3053  12637.285714            NaN\n",
      "2010-12-23       3156  10492.571429            NaN\n",
      "2011-01-04       6727   7241.857143            NaN\n",
      "2011-01-05      18155   8333.000000            NaN\n",
      "2011-01-06      21126  10817.428571            NaN\n",
      "2011-01-07      14437  11077.428571            NaN\n",
      "2011-01-09       8181  10690.714286            NaN\n",
      "2011-01-10       9363  11592.142857            NaN\n",
      "2011-01-11      25768  14822.428571            NaN\n",
      "2011-01-12       7781  14973.000000   14567.857143\n",
      "2011-01-13       8293  13564.142857   14005.750000\n",
      "2011-01-14      21050  13553.285714   14012.714286\n"
     ]
    }
   ],
   "source": [
    "data_time = pd.DataFrame(data_clean.groupby('Invoice_DAY')['Quantity'].sum())\n",
    "data_time['pandas_SMA_7'] = data_time.iloc[:,0].rolling(window=7).mean()\n",
    "data_time['pandas_SMA_28'] = data_time.iloc[:,0].rolling(window=28).mean()\n",
    "print(data_time.head(30))"
   ]
  },
  {
   "cell_type": "code",
   "execution_count": 115,
   "metadata": {},
   "outputs": [
    {
     "data": {
      "image/png": "[encoded data removed]",
      "text/plain": [
       "<Figure size 432x288 with 1 Axes>"
      ]
     },
     "metadata": {
      "needs_background": "light"
     },
     "output_type": "display_data"
    }
   ],
   "source": [
    "import matplotlib.pyplot as plt\n",
    "plt.plot(data_time['Quantity'], label = 'Per day', color='grey')\n",
    "plt.plot(data_time['pandas_SMA_7'], label = 'Rolling 7 Day Average', color='red')\n",
    "plt.plot(data_time['pandas_SMA_28'], label = 'Rolling 28 Day Average', color='blue')\n",
    "plt.ylabel('Total Quantity')\n",
    "plt.title('Total Quantity per Day in 2011')\n",
    "plt.legend()\n",
    "plt.show()"
   ]
  },
  {
   "cell_type": "code",
   "execution_count": 289,
   "metadata": {},
   "outputs": [
    {
     "data": {
      "image/png": "[encoded data removed]",
      "text/plain": [
       "<Figure size 1440x576 with 2 Axes>"
      ]
     },
     "metadata": {
      "needs_background": "light"
     },
     "output_type": "display_data"
    }
   ],
   "source": [
    "\n",
    "data_Country_mean = pd.DataFrame(data_clean.groupby(['Country'])['Quantity'].mean()).rename(columns={'Quantity': 'QMean'})\n",
    "data_Country_sum = pd.DataFrame(data_clean.groupby(['Country'])['Quantity'].sum()).rename(columns={'Quantity': 'QSum'})\n",
    "data_Country = pd.merge(data_Country_mean, data_Country_sum, on = 'Country', how='outer')\n",
    "data_Country = data_Country.sort_values('QSum')\n",
    "fig = plt.figure(figsize=(20,8))\n",
    "ax = fig.add_subplot(111) # Create matplotlib axes\n",
    "ax2 = ax.twinx()\n",
    "width = 0.4\n",
    "sumbar = data_Country.QSum.plot(kind='bar', ylim=(0,300000),color='red', ax=ax, width=width, position=1)\n",
    "meanbar = data_Country.QMean.plot(kind='bar',color='blue', ax=ax2, width=width, position=0)\n",
    "ax.set_ylabel('Sum', color='red', fontsize=20)\n",
    "ax2.set_ylabel('Mean', color='blue',  fontsize=20)\n",
    "plt.title('Quantity Sum vs Customer Quantity Mean by Country', x=0.5, y=0.9, fontsize=25)\n",
    "# Add first legend:  only labeled data is included\n",
    "leg1 = ax2.legend(loc='upper left', prop={'size': 20})\n",
    "# Add second legend for the maxes and mins.\n",
    "# leg1 will be removed from figure\n",
    "leg2 = ax.legend(loc='center left', prop={'size': 20})\n",
    "# Manually add the first legend back\n",
    "ax.add_artist(leg2)\n",
    "fig.tight_layout()\n",
    "plt.show()\n"
   ]
  },
  {
   "cell_type": "code",
   "execution_count": 288,
   "metadata": {},
   "outputs": [
    {
     "data": {
      "image/png": "[encoded data removed]",
      "text/plain": [
       "<Figure size 1440x576 with 2 Axes>"
      ]
     },
     "metadata": {
      "needs_background": "light"
     },
     "output_type": "display_data"
    }
   ],
   "source": [
    "data_Country_mean = pd.DataFrame(data_clean.groupby(['Country'])['InvoiceCost'].mean()).rename(columns={'InvoiceCost': 'CMean'})\n",
    "data_Country_sum = pd.DataFrame(data_clean.groupby(['Country'])['InvoiceCost'].sum()).rename(columns={'InvoiceCost': 'CSum'})\n",
    "data_Country = pd.merge(data_Country_mean, data_Country_sum, on = 'Country', how='outer')\n",
    "data_Country = data_Country.sort_values('CSum')\n",
    "fig = plt.figure(figsize=(20,8))\n",
    "ax = fig.add_subplot(111) # Create matplotlib axes\n",
    "ax2 = ax.twinx()\n",
    "width = 0.4\n",
    "sumbar = data_Country.CSum.plot(kind='bar',color='red', ylim=(0,300000), ax=ax, width=width, position=1)\n",
    "meanbar = data_Country.CMean.plot(kind='bar',color='blue', ax=ax2, width=width, position=0)\n",
    "ax.set_ylabel('Sum', color='red', fontsize=20)\n",
    "ax2.set_ylabel('Mean', color='blue',fontsize=20)\n",
    "# Add first legend:  only labeled data is included\n",
    "leg1 = ax2.legend(loc='upper left', prop={'size': 20})\n",
    "# Add second legend for the maxes and mins.\n",
    "# leg1 will be removed from figure\n",
    "leg2 = ax.legend(loc='center left', prop={'size': 20})\n",
    "# Manually add the first legend back\n",
    "ax.add_artist(leg2)\n",
    "plt.title('Total Spend Sum vs Customer Spend Mean by Country', x=0.5, y=0.9, fontsize=25)\n",
    "fig.tight_layout()\n",
    "plt.show()\n",
    "fig.tight_layout()\n",
    "plt.show()"
   ]
  },
  {
   "cell_type": "code",
   "execution_count": 258,
   "metadata": {},
   "outputs": [
    {
     "data": {
      "text/html": [
       "<div>\n",
       "<style scoped>\n",
       "    .dataframe tbody tr th:only-of-type {\n",
       "        vertical-align: middle;\n",
       "    }\n",
       "\n",
       "    .dataframe tbody tr th {\n",
       "        vertical-align: top;\n",
       "    }\n",
       "\n",
       "    .dataframe thead th {\n",
       "        text-align: right;\n",
       "    }\n",
       "</style>\n",
       "<table border=\"1\" class=\"dataframe\">\n",
       "  <thead>\n",
       "    <tr style=\"text-align: right;\">\n",
       "      <th></th>\n",
       "      <th>UnitPrice_Mean</th>\n",
       "      <th>InvoiceCost_Mean</th>\n",
       "    </tr>\n",
       "    <tr>\n",
       "      <th>CustomerID</th>\n",
       "      <th></th>\n",
       "      <th></th>\n",
       "    </tr>\n",
       "  </thead>\n",
       "  <tbody>\n",
       "    <tr>\n",
       "      <td>12346.0</td>\n",
       "      <td>1.040000</td>\n",
       "      <td>0.000000</td>\n",
       "    </tr>\n",
       "    <tr>\n",
       "      <td>12347.0</td>\n",
       "      <td>2.644011</td>\n",
       "      <td>23.681319</td>\n",
       "    </tr>\n",
       "    <tr>\n",
       "      <td>12348.0</td>\n",
       "      <td>5.764839</td>\n",
       "      <td>57.975484</td>\n",
       "    </tr>\n",
       "    <tr>\n",
       "      <td>12349.0</td>\n",
       "      <td>8.289041</td>\n",
       "      <td>24.076027</td>\n",
       "    </tr>\n",
       "    <tr>\n",
       "      <td>12350.0</td>\n",
       "      <td>3.841176</td>\n",
       "      <td>19.670588</td>\n",
       "    </tr>\n",
       "  </tbody>\n",
       "</table>\n",
       "</div>"
      ],
      "text/plain": [
       "            UnitPrice_Mean  InvoiceCost_Mean\n",
       "CustomerID                                  \n",
       "12346.0           1.040000          0.000000\n",
       "12347.0           2.644011         23.681319\n",
       "12348.0           5.764839         57.975484\n",
       "12349.0           8.289041         24.076027\n",
       "12350.0           3.841176         19.670588"
      ]
     },
     "execution_count": 258,
     "metadata": {},
     "output_type": "execute_result"
    }
   ],
   "source": [
    "data_mean = data_clean.groupby('CustomerID').mean().drop('Quantity', axis = 1).rename(columns={'UnitPrice': 'UnitPrice_Mean', 'InvoiceCost': 'InvoiceCost_Mean'})\n",
    "data_mean.head()"
   ]
  },
  {
   "cell_type": "code",
   "execution_count": 14,
   "metadata": {},
   "outputs": [
    {
     "name": "stdout",
     "output_type": "stream",
     "text": [
      "            Txn_InvCt  StockCode_UniqueCt  Txn_DateCt  Country_Ct  Day_Ct\n",
      "CustomerID                                                               \n",
      "12415.0            26                 444          25           1      18\n",
      "12424.0             2                  30           1           1       1\n",
      "12457.0            12                  53          11           2       9\n",
      "12494.0            13                  63          12           1      11\n",
      "12569.0            35                  92          33           1      27\n",
      "...               ...                 ...         ...         ...     ...\n",
      "18065.0            15                 110          12           1       7\n",
      "18102.0            62                 151          57           1      27\n",
      "18168.0             9                 101           8           1       6\n",
      "18172.0            25                 101          22           1      18\n",
      "18177.0             7                  53           6           1       6\n",
      "\n",
      "[152 rows x 5 columns]\n"
     ]
    }
   ],
   "source": [
    "data_count = data_clean.groupby('CustomerID').nunique().drop(['Description','Quantity','UnitPrice','CustomerID','InvoiceCost'], axis = 1)\n",
    "data_count.columns = ['Txn_InvCt','StockCode_UniqueCt','Txn_DateCt','Country_Ct','Day_Ct']\n",
    "print(data_count[data_count['Txn_InvCt'] != data_count['Txn_DateCt']])"
   ]
  },
  {
   "cell_type": "code",
   "execution_count": 15,
   "metadata": {},
   "outputs": [
    {
     "data": {
      "text/html": [
       "<div>\n",
       "<style scoped>\n",
       "    .dataframe tbody tr th:only-of-type {\n",
       "        vertical-align: middle;\n",
       "    }\n",
       "\n",
       "    .dataframe tbody tr th {\n",
       "        vertical-align: top;\n",
       "    }\n",
       "\n",
       "    .dataframe thead th {\n",
       "        text-align: right;\n",
       "    }\n",
       "</style>\n",
       "<table border=\"1\" class=\"dataframe\">\n",
       "  <thead>\n",
       "    <tr style=\"text-align: right;\">\n",
       "      <th></th>\n",
       "      <th>Total_Quantity</th>\n",
       "      <th>Total_Spend</th>\n",
       "    </tr>\n",
       "    <tr>\n",
       "      <th>CustomerID</th>\n",
       "      <th></th>\n",
       "      <th></th>\n",
       "    </tr>\n",
       "  </thead>\n",
       "  <tbody>\n",
       "    <tr>\n",
       "      <td>12346.0</td>\n",
       "      <td>0</td>\n",
       "      <td>0.00</td>\n",
       "    </tr>\n",
       "    <tr>\n",
       "      <td>12347.0</td>\n",
       "      <td>2458</td>\n",
       "      <td>4310.00</td>\n",
       "    </tr>\n",
       "    <tr>\n",
       "      <td>12348.0</td>\n",
       "      <td>2341</td>\n",
       "      <td>1797.24</td>\n",
       "    </tr>\n",
       "    <tr>\n",
       "      <td>12349.0</td>\n",
       "      <td>631</td>\n",
       "      <td>1757.55</td>\n",
       "    </tr>\n",
       "    <tr>\n",
       "      <td>12350.0</td>\n",
       "      <td>197</td>\n",
       "      <td>334.40</td>\n",
       "    </tr>\n",
       "  </tbody>\n",
       "</table>\n",
       "</div>"
      ],
      "text/plain": [
       "            Total_Quantity  Total_Spend\n",
       "CustomerID                             \n",
       "12346.0                  0         0.00\n",
       "12347.0               2458      4310.00\n",
       "12348.0               2341      1797.24\n",
       "12349.0                631      1757.55\n",
       "12350.0                197       334.40"
      ]
     },
     "execution_count": 15,
     "metadata": {},
     "output_type": "execute_result"
    }
   ],
   "source": [
    "data_sum = data_clean.groupby('CustomerID').sum().drop('UnitPrice',axis=1)\n",
    "data_sum.columns = ['Total_Quantity','Total_Spend']\n",
    "data_sum.head()"
   ]
  },
  {
   "cell_type": "code",
   "execution_count": 19,
   "metadata": {},
   "outputs": [
    {
     "data": {
      "text/html": [
       "<div>\n",
       "<style scoped>\n",
       "    .dataframe tbody tr th:only-of-type {\n",
       "        vertical-align: middle;\n",
       "    }\n",
       "\n",
       "    .dataframe tbody tr th {\n",
       "        vertical-align: top;\n",
       "    }\n",
       "\n",
       "    .dataframe thead th {\n",
       "        text-align: right;\n",
       "    }\n",
       "</style>\n",
       "<table border=\"1\" class=\"dataframe\">\n",
       "  <thead>\n",
       "    <tr style=\"text-align: right;\">\n",
       "      <th></th>\n",
       "      <th>InvoiceNo</th>\n",
       "      <th>StockCode</th>\n",
       "      <th>Description</th>\n",
       "      <th>Quantity</th>\n",
       "      <th>InvoiceDate</th>\n",
       "      <th>UnitPrice</th>\n",
       "      <th>CustomerID</th>\n",
       "      <th>Country</th>\n",
       "      <th>Invoice_DAY</th>\n",
       "      <th>InvoiceCost</th>\n",
       "    </tr>\n",
       "  </thead>\n",
       "  <tbody>\n",
       "    <tr>\n",
       "      <td>0</td>\n",
       "      <td>536365</td>\n",
       "      <td>85123A</td>\n",
       "      <td>WHITE HANGING HEART T-LIGHT HOLDER</td>\n",
       "      <td>6</td>\n",
       "      <td>2010-12-01 08:26:00</td>\n",
       "      <td>2.55</td>\n",
       "      <td>17850.0</td>\n",
       "      <td>United Kingdom</td>\n",
       "      <td>2010-12-01</td>\n",
       "      <td>15.30</td>\n",
       "    </tr>\n",
       "    <tr>\n",
       "      <td>1</td>\n",
       "      <td>536365</td>\n",
       "      <td>71053</td>\n",
       "      <td>WHITE METAL LANTERN</td>\n",
       "      <td>6</td>\n",
       "      <td>2010-12-01 08:26:00</td>\n",
       "      <td>3.39</td>\n",
       "      <td>17850.0</td>\n",
       "      <td>United Kingdom</td>\n",
       "      <td>2010-12-01</td>\n",
       "      <td>20.34</td>\n",
       "    </tr>\n",
       "    <tr>\n",
       "      <td>2</td>\n",
       "      <td>536365</td>\n",
       "      <td>84406B</td>\n",
       "      <td>CREAM CUPID HEARTS COAT HANGER</td>\n",
       "      <td>8</td>\n",
       "      <td>2010-12-01 08:26:00</td>\n",
       "      <td>2.75</td>\n",
       "      <td>17850.0</td>\n",
       "      <td>United Kingdom</td>\n",
       "      <td>2010-12-01</td>\n",
       "      <td>22.00</td>\n",
       "    </tr>\n",
       "    <tr>\n",
       "      <td>3</td>\n",
       "      <td>536365</td>\n",
       "      <td>84029G</td>\n",
       "      <td>KNITTED UNION FLAG HOT WATER BOTTLE</td>\n",
       "      <td>6</td>\n",
       "      <td>2010-12-01 08:26:00</td>\n",
       "      <td>3.39</td>\n",
       "      <td>17850.0</td>\n",
       "      <td>United Kingdom</td>\n",
       "      <td>2010-12-01</td>\n",
       "      <td>20.34</td>\n",
       "    </tr>\n",
       "    <tr>\n",
       "      <td>4</td>\n",
       "      <td>536365</td>\n",
       "      <td>84029E</td>\n",
       "      <td>RED WOOLLY HOTTIE WHITE HEART.</td>\n",
       "      <td>6</td>\n",
       "      <td>2010-12-01 08:26:00</td>\n",
       "      <td>3.39</td>\n",
       "      <td>17850.0</td>\n",
       "      <td>United Kingdom</td>\n",
       "      <td>2010-12-01</td>\n",
       "      <td>20.34</td>\n",
       "    </tr>\n",
       "  </tbody>\n",
       "</table>\n",
       "</div>"
      ],
      "text/plain": [
       "  InvoiceNo StockCode                          Description  Quantity  \\\n",
       "0    536365    85123A   WHITE HANGING HEART T-LIGHT HOLDER         6   \n",
       "1    536365     71053                  WHITE METAL LANTERN         6   \n",
       "2    536365    84406B       CREAM CUPID HEARTS COAT HANGER         8   \n",
       "3    536365    84029G  KNITTED UNION FLAG HOT WATER BOTTLE         6   \n",
       "4    536365    84029E       RED WOOLLY HOTTIE WHITE HEART.         6   \n",
       "\n",
       "          InvoiceDate  UnitPrice  CustomerID         Country Invoice_DAY  \\\n",
       "0 2010-12-01 08:26:00       2.55     17850.0  United Kingdom  2010-12-01   \n",
       "1 2010-12-01 08:26:00       3.39     17850.0  United Kingdom  2010-12-01   \n",
       "2 2010-12-01 08:26:00       2.75     17850.0  United Kingdom  2010-12-01   \n",
       "3 2010-12-01 08:26:00       3.39     17850.0  United Kingdom  2010-12-01   \n",
       "4 2010-12-01 08:26:00       3.39     17850.0  United Kingdom  2010-12-01   \n",
       "\n",
       "   InvoiceCost  \n",
       "0        15.30  \n",
       "1        20.34  \n",
       "2        22.00  \n",
       "3        20.34  \n",
       "4        20.34  "
      ]
     },
     "execution_count": 19,
     "metadata": {},
     "output_type": "execute_result"
    }
   ],
   "source": [
    "data_clean.head()"
   ]
  },
  {
   "cell_type": "code",
   "execution_count": 20,
   "metadata": {},
   "outputs": [
    {
     "name": "stdout",
     "output_type": "stream",
     "text": [
      "2011-12-10 00:00:00\n",
      "       InvoiceNo StockCode                          Description  Quantity  \\\n",
      "0         536365    85123A   WHITE HANGING HEART T-LIGHT HOLDER         6   \n",
      "1320      536535     22943  CHRISTMAS LIGHTS 10 VINTAGE BAUBLES         3   \n",
      "1319      536534     22112           CHOCOLATE HOT WATER BOTTLE         3   \n",
      "1318      536534     22867              HAND WARMER BIRD DESIGN        12   \n",
      "1317      536534     22865               HAND WARMER OWL DESIGN        12   \n",
      "...          ...       ...                                  ...       ...   \n",
      "541216    581494      POST                              POSTAGE         2   \n",
      "541217    581495     23535              WALL ART BICYCLE SAFETY        12   \n",
      "541218    581495     22699     ROSES REGENCY TEACUP AND SAUCER         12   \n",
      "541211    581494     22554     PLASTERS IN TIN WOODLAND ANIMALS        12   \n",
      "541908    581587     22138        BAKING SET 9 PIECE RETROSPOT          3   \n",
      "\n",
      "               InvoiceDate  UnitPrice  CustomerID         Country Invoice_DAY  \\\n",
      "0      2010-12-01 08:26:00       2.55     17850.0  United Kingdom  2010-12-01   \n",
      "1320   2010-12-01 13:38:00       4.95     15605.0  United Kingdom  2010-12-01   \n",
      "1319   2010-12-01 13:33:00       4.95     15350.0  United Kingdom  2010-12-01   \n",
      "1318   2010-12-01 13:33:00       2.10     15350.0  United Kingdom  2010-12-01   \n",
      "1317   2010-12-01 13:33:00       2.10     15350.0  United Kingdom  2010-12-01   \n",
      "...                    ...        ...         ...             ...         ...   \n",
      "541216 2011-12-09 10:13:00      18.00     12518.0         Germany  2011-12-09   \n",
      "541217 2011-12-09 10:20:00       5.95     14051.0  United Kingdom  2011-12-09   \n",
      "541218 2011-12-09 10:20:00       2.95     14051.0  United Kingdom  2011-12-09   \n",
      "541211 2011-12-09 10:13:00       1.65     12518.0         Germany  2011-12-09   \n",
      "541908 2011-12-09 12:50:00       4.95     12680.0          France  2011-12-09   \n",
      "\n",
      "        InvoiceCost  \n",
      "0             15.30  \n",
      "1320          14.85  \n",
      "1319          14.85  \n",
      "1318          25.20  \n",
      "1317          25.20  \n",
      "...             ...  \n",
      "541216        36.00  \n",
      "541217        71.40  \n",
      "541218        35.40  \n",
      "541211        19.80  \n",
      "541908        14.85  \n",
      "\n",
      "[406829 rows x 10 columns]\n"
     ]
    }
   ],
   "source": [
    "from datetime import timedelta\n",
    "snapshotday = data_clean['Invoice_DAY'].max() + timedelta(days=1)\n",
    "print(snapshotday)\n",
    "data_clean = data_clean.sort_values(by='Invoice_DAY') \n",
    "print(data_clean)\n",
    "    \n",
    "#ifr(data_clean['Invoice_DAY'])"
   ]
  },
  {
   "cell_type": "code",
   "execution_count": 87,
   "metadata": {},
   "outputs": [],
   "source": [
    "#print((data_clean['Invoice_DAY'][0] - data_clean['Invoice_DAY'][4000]).days)\n",
    "def ifr(var):\n",
    "    dif_list = []\n",
    "    for i in range(1,len(var)):\n",
    "        dif_list.append((var.iloc[i]-var.iloc[i-1]).days)\n",
    "    if len(dif_list)<1:\n",
    "        return None\n",
    "    IFR = np.mean(dif_list)\n",
    "    return IFR"
   ]
  },
  {
   "cell_type": "code",
   "execution_count": 96,
   "metadata": {},
   "outputs": [
    {
     "name": "stdout",
     "output_type": "stream",
     "text": [
      "                 IFR  Recency\n",
      "CustomerID                   \n",
      "12346.0     0.000000      326\n",
      "12347.0     2.016575        3\n",
      "12348.0     9.433333       76\n",
      "12349.0     0.000000       19\n",
      "12350.0     0.000000      311\n"
     ]
    }
   ],
   "source": [
    "import numpy as np\n",
    "data_IFR = data_clean.groupby(\"CustomerID\")['Invoice_DAY'].agg(IFR= lambda x: ifr(x),\n",
    "                                                 Recency=lambda y: snapshotday - y.max())\n",
    "\n",
    "data_IFR['Recency'] = data_IFR['Recency'].dt.days\n",
    "print(data_IFR.head())"
   ]
  },
  {
   "cell_type": "code",
   "execution_count": 97,
   "metadata": {},
   "outputs": [
    {
     "name": "stdout",
     "output_type": "stream",
     "text": [
      "               IFR      Recency\n",
      "count  4293.000000  4372.000000\n",
      "mean      3.428176    92.581199\n",
      "std      11.516805   100.772139\n",
      "min       0.000000     1.000000\n",
      "25%       0.000000    17.000000\n",
      "50%       1.174757    51.000000\n",
      "75%       3.093023   144.000000\n",
      "max     309.000000   374.000000\n"
     ]
    }
   ],
   "source": [
    "#data_IFR['Recency'] = data_IFR['Recency'].dt.days.astype('int16')\n",
    "print(data_IFR.describe())"
   ]
  },
  {
   "cell_type": "code",
   "execution_count": 98,
   "metadata": {},
   "outputs": [
    {
     "data": {
      "text/html": [
       "<div>\n",
       "<style scoped>\n",
       "    .dataframe tbody tr th:only-of-type {\n",
       "        vertical-align: middle;\n",
       "    }\n",
       "\n",
       "    .dataframe tbody tr th {\n",
       "        vertical-align: top;\n",
       "    }\n",
       "\n",
       "    .dataframe thead th {\n",
       "        text-align: right;\n",
       "    }\n",
       "</style>\n",
       "<table border=\"1\" class=\"dataframe\">\n",
       "  <thead>\n",
       "    <tr style=\"text-align: right;\">\n",
       "      <th></th>\n",
       "      <th>UnitPrice_Mean</th>\n",
       "      <th>InvoiceCost_Mean</th>\n",
       "      <th>Txn_InvCt</th>\n",
       "      <th>StockCode_UniqueCt</th>\n",
       "      <th>Txn_DateCt</th>\n",
       "      <th>Country_Ct</th>\n",
       "      <th>Day_Ct</th>\n",
       "      <th>Total_Quantity</th>\n",
       "      <th>Total_Spend</th>\n",
       "      <th>IFR</th>\n",
       "      <th>Recency</th>\n",
       "    </tr>\n",
       "    <tr>\n",
       "      <th>CustomerID</th>\n",
       "      <th></th>\n",
       "      <th></th>\n",
       "      <th></th>\n",
       "      <th></th>\n",
       "      <th></th>\n",
       "      <th></th>\n",
       "      <th></th>\n",
       "      <th></th>\n",
       "      <th></th>\n",
       "      <th></th>\n",
       "      <th></th>\n",
       "    </tr>\n",
       "  </thead>\n",
       "  <tbody>\n",
       "    <tr>\n",
       "      <td>12346</td>\n",
       "      <td>1.040000</td>\n",
       "      <td>0.000000</td>\n",
       "      <td>2</td>\n",
       "      <td>1</td>\n",
       "      <td>2</td>\n",
       "      <td>1</td>\n",
       "      <td>1</td>\n",
       "      <td>0</td>\n",
       "      <td>0.00</td>\n",
       "      <td>0.000000</td>\n",
       "      <td>326</td>\n",
       "    </tr>\n",
       "    <tr>\n",
       "      <td>12347</td>\n",
       "      <td>2.644011</td>\n",
       "      <td>23.681319</td>\n",
       "      <td>7</td>\n",
       "      <td>103</td>\n",
       "      <td>7</td>\n",
       "      <td>1</td>\n",
       "      <td>7</td>\n",
       "      <td>2458</td>\n",
       "      <td>4310.00</td>\n",
       "      <td>2.016575</td>\n",
       "      <td>3</td>\n",
       "    </tr>\n",
       "    <tr>\n",
       "      <td>12348</td>\n",
       "      <td>5.764839</td>\n",
       "      <td>57.975484</td>\n",
       "      <td>4</td>\n",
       "      <td>22</td>\n",
       "      <td>4</td>\n",
       "      <td>1</td>\n",
       "      <td>4</td>\n",
       "      <td>2341</td>\n",
       "      <td>1797.24</td>\n",
       "      <td>9.433333</td>\n",
       "      <td>76</td>\n",
       "    </tr>\n",
       "    <tr>\n",
       "      <td>12349</td>\n",
       "      <td>8.289041</td>\n",
       "      <td>24.076027</td>\n",
       "      <td>1</td>\n",
       "      <td>73</td>\n",
       "      <td>1</td>\n",
       "      <td>1</td>\n",
       "      <td>1</td>\n",
       "      <td>631</td>\n",
       "      <td>1757.55</td>\n",
       "      <td>0.000000</td>\n",
       "      <td>19</td>\n",
       "    </tr>\n",
       "    <tr>\n",
       "      <td>12350</td>\n",
       "      <td>3.841176</td>\n",
       "      <td>19.670588</td>\n",
       "      <td>1</td>\n",
       "      <td>17</td>\n",
       "      <td>1</td>\n",
       "      <td>1</td>\n",
       "      <td>1</td>\n",
       "      <td>197</td>\n",
       "      <td>334.40</td>\n",
       "      <td>0.000000</td>\n",
       "      <td>311</td>\n",
       "    </tr>\n",
       "  </tbody>\n",
       "</table>\n",
       "</div>"
      ],
      "text/plain": [
       "            UnitPrice_Mean  InvoiceCost_Mean  Txn_InvCt  StockCode_UniqueCt  \\\n",
       "CustomerID                                                                    \n",
       "12346             1.040000          0.000000          2                   1   \n",
       "12347             2.644011         23.681319          7                 103   \n",
       "12348             5.764839         57.975484          4                  22   \n",
       "12349             8.289041         24.076027          1                  73   \n",
       "12350             3.841176         19.670588          1                  17   \n",
       "\n",
       "            Txn_DateCt  Country_Ct  Day_Ct  Total_Quantity  Total_Spend  \\\n",
       "CustomerID                                                                \n",
       "12346                2           1       1               0         0.00   \n",
       "12347                7           1       7            2458      4310.00   \n",
       "12348                4           1       4            2341      1797.24   \n",
       "12349                1           1       1             631      1757.55   \n",
       "12350                1           1       1             197       334.40   \n",
       "\n",
       "                 IFR  Recency  \n",
       "CustomerID                     \n",
       "12346       0.000000      326  \n",
       "12347       2.016575        3  \n",
       "12348       9.433333       76  \n",
       "12349       0.000000       19  \n",
       "12350       0.000000      311  "
      ]
     },
     "execution_count": 98,
     "metadata": {},
     "output_type": "execute_result"
    }
   ],
   "source": [
    "data_final = pd.merge(data_mean, data_count, on = 'CustomerID', how='outer')\n",
    "data_final = pd.merge(data_final, data_sum, on = 'CustomerID', how='outer')\n",
    "data_final = pd.merge(data_final, data_IFR, on = 'CustomerID', how='outer')\n",
    "data_final.index = data_final.index.map(int)\n",
    "data_final.head()"
   ]
  },
  {
   "cell_type": "code",
   "execution_count": 152,
   "metadata": {},
   "outputs": [
    {
     "name": "stdout",
     "output_type": "stream",
     "text": [
      "Index(['UnitPrice_Mean', 'InvoiceCost_Mean', 'Txn_InvCt', 'StockCode_UniqueCt',\n",
      "       'Txn_DateCt', 'Country_Ct', 'Day_Ct', 'Total_Quantity', 'Total_Spend',\n",
      "       'IFR', 'Recency'],\n",
      "      dtype='object')\n",
      "UnitPrice_Mean        float64\n",
      "InvoiceCost_Mean      float64\n",
      "Txn_InvCt               int64\n",
      "StockCode_UniqueCt      int64\n",
      "Txn_DateCt              int64\n",
      "Country_Ct              int64\n",
      "Day_Ct                  int64\n",
      "Total_Quantity          int64\n",
      "Total_Spend           float64\n",
      "IFR                   float64\n",
      "Recency                 int64\n",
      "dtype: object\n",
      "1    4364\n",
      "2       8\n",
      "Name: Country_Ct, dtype: int64\n",
      "            UnitPrice_Mean  InvoiceCost_Mean  Txn_InvCt  StockCode_UniqueCt  \\\n",
      "CustomerID                                                                    \n",
      "12370             2.800299         21.231677          4                 143   \n",
      "12394             3.370741         47.128889          2                  26   \n",
      "12417             5.425404         18.074747         12                 158   \n",
      "12422             3.260256         20.604103          3                  39   \n",
      "12429             3.630722         38.663918          4                  82   \n",
      "12431             3.758333         26.734958         18                 163   \n",
      "12455             3.173333         27.409556          6                  85   \n",
      "12457             5.181912         28.202647         12                  53   \n",
      "\n",
      "            Txn_DateCt  Country_Ct  Day_Ct  Total_Quantity  Total_Spend  \\\n",
      "CustomerID                                                                \n",
      "12370                4           2       4            2353      3545.69   \n",
      "12394                2           2       2             819      1272.48   \n",
      "12417               12           2      12            1539      3578.80   \n",
      "12422                3           2       3             370       803.56   \n",
      "12429                4           2       4            1557      3750.40   \n",
      "12431               18           2      16            2868      6416.39   \n",
      "12455                6           2       6            2089      2466.86   \n",
      "12457               11           2       9             695      1917.78   \n",
      "\n",
      "                 IFR  Recency  \n",
      "CustomerID                     \n",
      "12370       1.861446       52  \n",
      "12394       5.923077       64  \n",
      "12417       1.796954        4  \n",
      "12422       6.026316       96  \n",
      "12429       3.708333       10  \n",
      "12431       1.414226       36  \n",
      "12455       2.505618       74  \n",
      "12457       2.701493       59  \n"
     ]
    }
   ],
   "source": [
    "print(data_final.columns)\n",
    "print(data_final.dtypes)\n",
    "print(data_final.Country_Ct.value_counts())\n",
    "print(data_final[data_final.Country_Ct == 2])"
   ]
  },
  {
   "cell_type": "code",
   "execution_count": 147,
   "metadata": {},
   "outputs": [
    {
     "name": "stdout",
     "output_type": "stream",
     "text": [
      "Median: 3.0\n",
      "Summary: count    4372.000000\n",
      "mean        5.075480\n",
      "std         9.338754\n",
      "min         1.000000\n",
      "25%         1.000000\n",
      "50%         3.000000\n",
      "75%         5.000000\n",
      "max       248.000000\n",
      "Name: Txn_InvCt, dtype: float64\n",
      "Mode: 0    1\n",
      "dtype: int64\n"
     ]
    },
    {
     "data": {
      "image/png": "[encoded data removed]",
      "text/plain": [
       "<Figure size 432x288 with 1 Axes>"
      ]
     },
     "metadata": {
      "needs_background": "light"
     },
     "output_type": "display_data"
    }
   ],
   "source": [
    "_ = plt.hist(data_final['Txn_InvCt'], bins=100)\n",
    "_ = plt.xlabel('No of Transactions')\n",
    "_ = plt.ylabel('number of customers')\n",
    "_ = plt.xlim(0, 80)\n",
    "print('Median:', data_final['Txn_InvCt'].median())\n",
    "print('Summary:', data_final['Txn_InvCt'].describe())\n",
    "print('Mode:', data_final['Txn_InvCt'].mode())\n"
   ]
  },
  {
   "cell_type": "code",
   "execution_count": 133,
   "metadata": {},
   "outputs": [
    {
     "name": "stdout",
     "output_type": "stream",
     "text": [
      "Median: 51.0\n",
      "Summary: count    4372.000000\n",
      "mean       92.581199\n",
      "std       100.772139\n",
      "min         1.000000\n",
      "25%        17.000000\n",
      "50%        51.000000\n",
      "75%       144.000000\n",
      "max       374.000000\n",
      "Name: Recency, dtype: float64\n",
      "Mode: 0    2\n",
      "dtype: int64\n"
     ]
    },
    {
     "data": {
      "image/png": "[encoded data removed]",
      "text/plain": [
       "<Figure size 432x288 with 1 Axes>"
      ]
     },
     "metadata": {
      "needs_background": "light"
     },
     "output_type": "display_data"
    }
   ],
   "source": [
    "_ = plt.hist(data_final['Recency'], bins=30)\n",
    "_ = plt.xlabel('Recency')\n",
    "_ = plt.ylabel('number of customers')\n",
    "print('Median:', data_final['Recency'].median())\n",
    "print('Summary:', data_final['Recency'].describe())\n",
    "print('Mode:', data_final['Recency'].mode())"
   ]
  },
  {
   "cell_type": "code",
   "execution_count": 143,
   "metadata": {},
   "outputs": [
    {
     "name": "stdout",
     "output_type": "stream",
     "text": [
      "Median: 648.0750000000002\n",
      "Summary: count      4372.000000\n",
      "mean       1898.459701\n",
      "std        8219.345141\n",
      "min       -4287.630000\n",
      "25%         293.362500\n",
      "50%         648.075000\n",
      "75%        1611.725000\n",
      "max      279489.020000\n",
      "Name: Total_Spend, dtype: float64\n",
      "Mode: 0    0.0\n",
      "dtype: float64\n"
     ]
    },
    {
     "data": {
      "image/png": "[encoded data removed]",
      "text/plain": [
       "<Figure size 432x288 with 1 Axes>"
      ]
     },
     "metadata": {
      "needs_background": "light"
     },
     "output_type": "display_data"
    }
   ],
   "source": [
    "_ = plt.hist(data_final['Total_Spend'], bins=1000)\n",
    "_ = plt.xlabel('Total Spend per Customer')\n",
    "_ = plt.ylabel('number of customers')\n",
    "_ = plt.xlim(0, 10000)\n",
    "print('Median:', data_final['Total_Spend'].median())\n",
    "print('Summary:', data_final['Total_Spend'].describe())\n",
    "print('Mode:', data_final['Total_Spend'].mode())"
   ]
  },
  {
   "cell_type": "code",
   "execution_count": 139,
   "metadata": {},
   "outputs": [
    {
     "name": "stdout",
     "output_type": "stream",
     "text": [
      "            UnitPrice_Mean  InvoiceCost_Mean  Txn_InvCt  StockCode_UniqueCt  \\\n",
      "CustomerID                                                                    \n",
      "12346             1.040000               0.0          2                   1   \n",
      "13256             0.000000               0.0          1                   1   \n",
      "14557             1.590000               0.0          2                  16   \n",
      "14792             3.100000               0.0          2                   2   \n",
      "16742           118.162500               0.0          2                   4   \n",
      "16878             1.583333               0.0          2                   3   \n",
      "18268            12.750000               0.0          2                   1   \n",
      "\n",
      "            Txn_DateCt  Country_Ct  Day_Ct  Total_Quantity  Total_Spend  \\\n",
      "CustomerID                                                                \n",
      "12346                2           1       1               0          0.0   \n",
      "13256                1           1       1           12540          0.0   \n",
      "14557                2           1       2               0          0.0   \n",
      "14792                2           1       2               0          0.0   \n",
      "16742                2           1       1            -189          0.0   \n",
      "16878                2           1       2               0          0.0   \n",
      "18268                2           1       1               0          0.0   \n",
      "\n",
      "                  IFR  Recency  \n",
      "CustomerID                      \n",
      "12346        0.000000      326  \n",
      "13256             NaN       15  \n",
      "14557        0.677419       65  \n",
      "14792        0.333333       64  \n",
      "16742        0.000000       47  \n",
      "16878       12.000000       25  \n",
      "18268        0.000000      135  \n"
     ]
    }
   ],
   "source": [
    "print(data_final[data_final.Total_Spend==0])"
   ]
  },
  {
   "cell_type": "code",
   "execution_count": 132,
   "metadata": {},
   "outputs": [
    {
     "data": {
      "image/png": "[encoded data removed]",
      "text/plain": [
       "<Figure size 864x720 with 3 Axes>"
      ]
     },
     "metadata": {
      "needs_background": "light"
     },
     "output_type": "display_data"
    }
   ],
   "source": [
    "import seaborn as sns\n",
    "# Plot RFM distributions\n",
    "plt.figure(figsize=(12,10))\n",
    "# Plot distribution of R\n",
    "plt.subplot(3, 1, 1); sns.distplot(data_final['Recency'])\n",
    "# Plot distribution of F\n",
    "plt.subplot(3, 1, 2); sns.distplot(data_final['Txn_DateCt'])\n",
    "# Plot distribution of M\n",
    "plt.subplot(3, 1, 3); sns.distplot(data_final['Total_Spend'])\n",
    "# Show the plot\n",
    "plt.show()"
   ]
  },
  {
   "cell_type": "code",
   "execution_count": 35,
   "metadata": {},
   "outputs": [
    {
     "data": {
      "text/html": [
       "<div>\n",
       "<style scoped>\n",
       "    .dataframe tbody tr th:only-of-type {\n",
       "        vertical-align: middle;\n",
       "    }\n",
       "\n",
       "    .dataframe tbody tr th {\n",
       "        vertical-align: top;\n",
       "    }\n",
       "\n",
       "    .dataframe thead th {\n",
       "        text-align: right;\n",
       "    }\n",
       "</style>\n",
       "<table border=\"1\" class=\"dataframe\">\n",
       "  <thead>\n",
       "    <tr style=\"text-align: right;\">\n",
       "      <th></th>\n",
       "      <th>Txn_DateCt</th>\n",
       "      <th>Recency</th>\n",
       "      <th>Total_Spend</th>\n",
       "    </tr>\n",
       "  </thead>\n",
       "  <tbody>\n",
       "    <tr>\n",
       "      <td>count</td>\n",
       "      <td>4372.000000</td>\n",
       "      <td>4372.000000</td>\n",
       "      <td>4372.000000</td>\n",
       "    </tr>\n",
       "    <tr>\n",
       "      <td>mean</td>\n",
       "      <td>5.039799</td>\n",
       "      <td>92.581199</td>\n",
       "      <td>1898.459701</td>\n",
       "    </tr>\n",
       "    <tr>\n",
       "      <td>std</td>\n",
       "      <td>9.248607</td>\n",
       "      <td>100.772139</td>\n",
       "      <td>8219.345141</td>\n",
       "    </tr>\n",
       "    <tr>\n",
       "      <td>min</td>\n",
       "      <td>1.000000</td>\n",
       "      <td>1.000000</td>\n",
       "      <td>-4287.630000</td>\n",
       "    </tr>\n",
       "    <tr>\n",
       "      <td>25%</td>\n",
       "      <td>1.000000</td>\n",
       "      <td>17.000000</td>\n",
       "      <td>293.362500</td>\n",
       "    </tr>\n",
       "    <tr>\n",
       "      <td>50%</td>\n",
       "      <td>3.000000</td>\n",
       "      <td>51.000000</td>\n",
       "      <td>648.075000</td>\n",
       "    </tr>\n",
       "    <tr>\n",
       "      <td>75%</td>\n",
       "      <td>5.000000</td>\n",
       "      <td>144.000000</td>\n",
       "      <td>1611.725000</td>\n",
       "    </tr>\n",
       "    <tr>\n",
       "      <td>max</td>\n",
       "      <td>248.000000</td>\n",
       "      <td>374.000000</td>\n",
       "      <td>279489.020000</td>\n",
       "    </tr>\n",
       "  </tbody>\n",
       "</table>\n",
       "</div>"
      ],
      "text/plain": [
       "        Txn_DateCt      Recency    Total_Spend\n",
       "count  4372.000000  4372.000000    4372.000000\n",
       "mean      5.039799    92.581199    1898.459701\n",
       "std       9.248607   100.772139    8219.345141\n",
       "min       1.000000     1.000000   -4287.630000\n",
       "25%       1.000000    17.000000     293.362500\n",
       "50%       3.000000    51.000000     648.075000\n",
       "75%       5.000000   144.000000    1611.725000\n",
       "max     248.000000   374.000000  279489.020000"
      ]
     },
     "execution_count": 35,
     "metadata": {},
     "output_type": "execute_result"
    }
   ],
   "source": [
    "data_final[['Txn_DateCt','Recency','Total_Spend']].describe()"
   ]
  },
  {
   "cell_type": "code",
   "execution_count": 116,
   "metadata": {},
   "outputs": [
    {
     "data": {
      "image/png": "[encoded data removed]",
      "text/plain": [
       "<Figure size 432x432 with 3 Axes>"
      ]
     },
     "metadata": {
      "needs_background": "light"
     },
     "output_type": "display_data"
    },
    {
     "data": {
      "image/png": "[encoded data removed]",
      "text/plain": [
       "<Figure size 432x432 with 3 Axes>"
      ]
     },
     "metadata": {
      "needs_background": "light"
     },
     "output_type": "display_data"
    },
    {
     "data": {
      "image/png": "[encoded data removed]",
      "text/plain": [
       "<Figure size 432x432 with 3 Axes>"
      ]
     },
     "metadata": {
      "needs_background": "light"
     },
     "output_type": "display_data"
    }
   ],
   "source": [
    "# Plot bivariate \n",
    "sns.jointplot('Txn_DateCt','IFR', data_final)\n",
    "plt.show()\n",
    "sns.jointplot('Recency','Txn_DateCt', data_final)\n",
    "plt.show()\n",
    "sns.jointplot('Total_Spend','Txn_DateCt', data_final)\n",
    "plt.show()"
   ]
  },
  {
   "cell_type": "code",
   "execution_count": 111,
   "metadata": {},
   "outputs": [
    {
     "name": "stdout",
     "output_type": "stream",
     "text": [
      "            UnitPrice_Mean  InvoiceCost_Mean  Txn_InvCt  StockCode_UniqueCt  \\\n",
      "CustomerID                                                                    \n",
      "12346             1.040000          0.000000          2                   1   \n",
      "12365            30.347826         13.943043          3                  22   \n",
      "12403             8.900000         68.283333          2                   5   \n",
      "12452             4.333478         18.633478          3                  21   \n",
      "12512             2.579412          4.059706          2                  31   \n",
      "...                    ...               ...        ...                 ...   \n",
      "18024             2.658636         10.762727          3                  21   \n",
      "18034             1.334464          3.775714          2                  99   \n",
      "18048             1.500000         24.612857          2                   6   \n",
      "18110             2.844694          4.205102          2                  33   \n",
      "18268            12.750000          0.000000          2                   1   \n",
      "\n",
      "            Txn_DateCt  Country_Ct  Day_Ct  Total_Quantity  Total_Spend  IFR  \\\n",
      "CustomerID                                                                     \n",
      "12346                2           1       1               0         0.00  0.0   \n",
      "12365                3           1       1             173       320.69  0.0   \n",
      "12403                2           1       1              95       409.70  0.0   \n",
      "12452                3           1       1             183       428.57  0.0   \n",
      "12512                2           1       1              99       138.03  0.0   \n",
      "...                ...         ...     ...             ...          ...  ...   \n",
      "18024                3           1       1             148       236.78  0.0   \n",
      "18034                2           1       1             561       422.88  0.0   \n",
      "18048                2           1       1             127       172.29  0.0   \n",
      "18110                2           1       1              79       206.05  0.0   \n",
      "18268                2           1       1               0         0.00  0.0   \n",
      "\n",
      "            Recency  \n",
      "CustomerID           \n",
      "12346           326  \n",
      "12365           292  \n",
      "12403            50  \n",
      "12452            17  \n",
      "12512            67  \n",
      "...             ...  \n",
      "18024           153  \n",
      "18034            22  \n",
      "18048           204  \n",
      "18110            20  \n",
      "18268           135  \n",
      "\n",
      "[67 rows x 11 columns]\n"
     ]
    }
   ],
   "source": [
    "print(data_final[(data_final['IFR'] == 0) & (data_final['Txn_DateCt'] > 1)])\n",
    "#print(data_final[(data_final['Txn_DateCt'] > 100)])\n",
    "#len(data_final[(data_final['IFR'] == 0)])"
   ]
  },
  {
   "cell_type": "code",
   "execution_count": 63,
   "metadata": {},
   "outputs": [
    {
     "data": {
      "text/html": [
       "<div>\n",
       "<style scoped>\n",
       "    .dataframe tbody tr th:only-of-type {\n",
       "        vertical-align: middle;\n",
       "    }\n",
       "\n",
       "    .dataframe tbody tr th {\n",
       "        vertical-align: top;\n",
       "    }\n",
       "\n",
       "    .dataframe thead th {\n",
       "        text-align: right;\n",
       "    }\n",
       "</style>\n",
       "<table border=\"1\" class=\"dataframe\">\n",
       "  <thead>\n",
       "    <tr style=\"text-align: right;\">\n",
       "      <th></th>\n",
       "      <th>UnitPrice_Mean</th>\n",
       "      <th>InvoiceCost_Mean</th>\n",
       "      <th>Txn_InvCt</th>\n",
       "      <th>StockCode_UniqueCt</th>\n",
       "      <th>Txn_DateCt</th>\n",
       "      <th>Country_Ct</th>\n",
       "      <th>Day_Ct</th>\n",
       "      <th>Total_Quantity</th>\n",
       "      <th>Total_Spend</th>\n",
       "      <th>IFR</th>\n",
       "      <th>Recency</th>\n",
       "      <th>R</th>\n",
       "      <th>F</th>\n",
       "    </tr>\n",
       "    <tr>\n",
       "      <th>CustomerID</th>\n",
       "      <th></th>\n",
       "      <th></th>\n",
       "      <th></th>\n",
       "      <th></th>\n",
       "      <th></th>\n",
       "      <th></th>\n",
       "      <th></th>\n",
       "      <th></th>\n",
       "      <th></th>\n",
       "      <th></th>\n",
       "      <th></th>\n",
       "      <th></th>\n",
       "      <th></th>\n",
       "    </tr>\n",
       "  </thead>\n",
       "  <tbody>\n",
       "    <tr>\n",
       "      <td>12346</td>\n",
       "      <td>1.040000</td>\n",
       "      <td>0.000000</td>\n",
       "      <td>2</td>\n",
       "      <td>1</td>\n",
       "      <td>2</td>\n",
       "      <td>1</td>\n",
       "      <td>1</td>\n",
       "      <td>0</td>\n",
       "      <td>0.00</td>\n",
       "      <td>1.452662</td>\n",
       "      <td>326</td>\n",
       "      <td>1</td>\n",
       "      <td>1</td>\n",
       "    </tr>\n",
       "    <tr>\n",
       "      <td>12347</td>\n",
       "      <td>2.644011</td>\n",
       "      <td>23.681319</td>\n",
       "      <td>7</td>\n",
       "      <td>103</td>\n",
       "      <td>7</td>\n",
       "      <td>1</td>\n",
       "      <td>7</td>\n",
       "      <td>2458</td>\n",
       "      <td>4310.00</td>\n",
       "      <td>1.452789</td>\n",
       "      <td>3</td>\n",
       "      <td>4</td>\n",
       "      <td>3</td>\n",
       "    </tr>\n",
       "    <tr>\n",
       "      <td>12348</td>\n",
       "      <td>5.764839</td>\n",
       "      <td>57.975484</td>\n",
       "      <td>4</td>\n",
       "      <td>22</td>\n",
       "      <td>4</td>\n",
       "      <td>1</td>\n",
       "      <td>4</td>\n",
       "      <td>2341</td>\n",
       "      <td>1797.24</td>\n",
       "      <td>1.453086</td>\n",
       "      <td>76</td>\n",
       "      <td>2</td>\n",
       "      <td>2</td>\n",
       "    </tr>\n",
       "    <tr>\n",
       "      <td>12349</td>\n",
       "      <td>8.289041</td>\n",
       "      <td>24.076027</td>\n",
       "      <td>1</td>\n",
       "      <td>73</td>\n",
       "      <td>1</td>\n",
       "      <td>1</td>\n",
       "      <td>1</td>\n",
       "      <td>631</td>\n",
       "      <td>1757.55</td>\n",
       "      <td>1.452956</td>\n",
       "      <td>19</td>\n",
       "      <td>3</td>\n",
       "      <td>1</td>\n",
       "    </tr>\n",
       "    <tr>\n",
       "      <td>12350</td>\n",
       "      <td>3.841176</td>\n",
       "      <td>19.670588</td>\n",
       "      <td>1</td>\n",
       "      <td>17</td>\n",
       "      <td>1</td>\n",
       "      <td>1</td>\n",
       "      <td>1</td>\n",
       "      <td>197</td>\n",
       "      <td>334.40</td>\n",
       "      <td>1.452928</td>\n",
       "      <td>311</td>\n",
       "      <td>1</td>\n",
       "      <td>1</td>\n",
       "    </tr>\n",
       "  </tbody>\n",
       "</table>\n",
       "</div>"
      ],
      "text/plain": [
       "            UnitPrice_Mean  InvoiceCost_Mean  Txn_InvCt  StockCode_UniqueCt  \\\n",
       "CustomerID                                                                    \n",
       "12346             1.040000          0.000000          2                   1   \n",
       "12347             2.644011         23.681319          7                 103   \n",
       "12348             5.764839         57.975484          4                  22   \n",
       "12349             8.289041         24.076027          1                  73   \n",
       "12350             3.841176         19.670588          1                  17   \n",
       "\n",
       "            Txn_DateCt  Country_Ct  Day_Ct  Total_Quantity  Total_Spend  \\\n",
       "CustomerID                                                                \n",
       "12346                2           1       1               0         0.00   \n",
       "12347                7           1       7            2458      4310.00   \n",
       "12348                4           1       4            2341      1797.24   \n",
       "12349                1           1       1             631      1757.55   \n",
       "12350                1           1       1             197       334.40   \n",
       "\n",
       "                 IFR  Recency  R  F  \n",
       "CustomerID                           \n",
       "12346       1.452662      326  1  1  \n",
       "12347       1.452789        3  4  3  \n",
       "12348       1.453086       76  2  2  \n",
       "12349       1.452956       19  3  1  \n",
       "12350       1.452928      311  1  1  "
      ]
     },
     "execution_count": 63,
     "metadata": {},
     "output_type": "execute_result"
    }
   ],
   "source": [
    "# --Calculate R and F groups--\n",
    "# Create labels for Recency and Frequency\n",
    "r_labels = range(4, 0, -1)\n",
    "f_labels = range(1, 4)\n",
    "# Assign these labels to 4 equal percentile groups \n",
    "r_groups = pd.qcut(data_final['Recency'], q=4, labels=r_labels)\n",
    "# Assign these labels to 4 equal percentile groups \n",
    "f_groups = pd.qcut(data_final['Txn_DateCt'], q=3, labels=f_labels)\n",
    "# Create new columns R and F \n",
    "data_final = data_final.assign(R = r_groups.values, F = f_groups.values)\n",
    "data_final.head()"
   ]
  },
  {
   "cell_type": "code",
   "execution_count": 65,
   "metadata": {},
   "outputs": [
    {
     "data": {
      "text/html": [
       "<div>\n",
       "<style scoped>\n",
       "    .dataframe tbody tr th:only-of-type {\n",
       "        vertical-align: middle;\n",
       "    }\n",
       "\n",
       "    .dataframe tbody tr th {\n",
       "        vertical-align: top;\n",
       "    }\n",
       "\n",
       "    .dataframe thead th {\n",
       "        text-align: right;\n",
       "    }\n",
       "</style>\n",
       "<table border=\"1\" class=\"dataframe\">\n",
       "  <thead>\n",
       "    <tr style=\"text-align: right;\">\n",
       "      <th></th>\n",
       "      <th>UnitPrice_Mean</th>\n",
       "      <th>InvoiceCost_Mean</th>\n",
       "      <th>Txn_InvCt</th>\n",
       "      <th>StockCode_UniqueCt</th>\n",
       "      <th>Txn_DateCt</th>\n",
       "      <th>Country_Ct</th>\n",
       "      <th>Day_Ct</th>\n",
       "      <th>Total_Quantity</th>\n",
       "      <th>Total_Spend</th>\n",
       "      <th>IFR</th>\n",
       "      <th>Recency</th>\n",
       "      <th>R</th>\n",
       "      <th>F</th>\n",
       "      <th>M</th>\n",
       "    </tr>\n",
       "    <tr>\n",
       "      <th>CustomerID</th>\n",
       "      <th></th>\n",
       "      <th></th>\n",
       "      <th></th>\n",
       "      <th></th>\n",
       "      <th></th>\n",
       "      <th></th>\n",
       "      <th></th>\n",
       "      <th></th>\n",
       "      <th></th>\n",
       "      <th></th>\n",
       "      <th></th>\n",
       "      <th></th>\n",
       "      <th></th>\n",
       "      <th></th>\n",
       "    </tr>\n",
       "  </thead>\n",
       "  <tbody>\n",
       "    <tr>\n",
       "      <td>12346</td>\n",
       "      <td>1.040000</td>\n",
       "      <td>0.000000</td>\n",
       "      <td>2</td>\n",
       "      <td>1</td>\n",
       "      <td>2</td>\n",
       "      <td>1</td>\n",
       "      <td>1</td>\n",
       "      <td>0</td>\n",
       "      <td>0.00</td>\n",
       "      <td>1.452662</td>\n",
       "      <td>326</td>\n",
       "      <td>1</td>\n",
       "      <td>1</td>\n",
       "      <td>1</td>\n",
       "    </tr>\n",
       "    <tr>\n",
       "      <td>12347</td>\n",
       "      <td>2.644011</td>\n",
       "      <td>23.681319</td>\n",
       "      <td>7</td>\n",
       "      <td>103</td>\n",
       "      <td>7</td>\n",
       "      <td>1</td>\n",
       "      <td>7</td>\n",
       "      <td>2458</td>\n",
       "      <td>4310.00</td>\n",
       "      <td>1.452789</td>\n",
       "      <td>3</td>\n",
       "      <td>4</td>\n",
       "      <td>3</td>\n",
       "      <td>4</td>\n",
       "    </tr>\n",
       "    <tr>\n",
       "      <td>12348</td>\n",
       "      <td>5.764839</td>\n",
       "      <td>57.975484</td>\n",
       "      <td>4</td>\n",
       "      <td>22</td>\n",
       "      <td>4</td>\n",
       "      <td>1</td>\n",
       "      <td>4</td>\n",
       "      <td>2341</td>\n",
       "      <td>1797.24</td>\n",
       "      <td>1.453086</td>\n",
       "      <td>76</td>\n",
       "      <td>2</td>\n",
       "      <td>2</td>\n",
       "      <td>4</td>\n",
       "    </tr>\n",
       "    <tr>\n",
       "      <td>12349</td>\n",
       "      <td>8.289041</td>\n",
       "      <td>24.076027</td>\n",
       "      <td>1</td>\n",
       "      <td>73</td>\n",
       "      <td>1</td>\n",
       "      <td>1</td>\n",
       "      <td>1</td>\n",
       "      <td>631</td>\n",
       "      <td>1757.55</td>\n",
       "      <td>1.452956</td>\n",
       "      <td>19</td>\n",
       "      <td>3</td>\n",
       "      <td>1</td>\n",
       "      <td>4</td>\n",
       "    </tr>\n",
       "    <tr>\n",
       "      <td>12350</td>\n",
       "      <td>3.841176</td>\n",
       "      <td>19.670588</td>\n",
       "      <td>1</td>\n",
       "      <td>17</td>\n",
       "      <td>1</td>\n",
       "      <td>1</td>\n",
       "      <td>1</td>\n",
       "      <td>197</td>\n",
       "      <td>334.40</td>\n",
       "      <td>1.452928</td>\n",
       "      <td>311</td>\n",
       "      <td>1</td>\n",
       "      <td>1</td>\n",
       "      <td>2</td>\n",
       "    </tr>\n",
       "  </tbody>\n",
       "</table>\n",
       "</div>"
      ],
      "text/plain": [
       "            UnitPrice_Mean  InvoiceCost_Mean  Txn_InvCt  StockCode_UniqueCt  \\\n",
       "CustomerID                                                                    \n",
       "12346             1.040000          0.000000          2                   1   \n",
       "12347             2.644011         23.681319          7                 103   \n",
       "12348             5.764839         57.975484          4                  22   \n",
       "12349             8.289041         24.076027          1                  73   \n",
       "12350             3.841176         19.670588          1                  17   \n",
       "\n",
       "            Txn_DateCt  Country_Ct  Day_Ct  Total_Quantity  Total_Spend  \\\n",
       "CustomerID                                                                \n",
       "12346                2           1       1               0         0.00   \n",
       "12347                7           1       7            2458      4310.00   \n",
       "12348                4           1       4            2341      1797.24   \n",
       "12349                1           1       1             631      1757.55   \n",
       "12350                1           1       1             197       334.40   \n",
       "\n",
       "                 IFR  Recency  R  F  M  \n",
       "CustomerID                              \n",
       "12346       1.452662      326  1  1  1  \n",
       "12347       1.452789        3  4  3  4  \n",
       "12348       1.453086       76  2  2  4  \n",
       "12349       1.452956       19  3  1  4  \n",
       "12350       1.452928      311  1  1  2  "
      ]
     },
     "execution_count": 65,
     "metadata": {},
     "output_type": "execute_result"
    }
   ],
   "source": [
    "# Create labels for MonetaryValue\n",
    "m_labels = range(1, 5)\n",
    "# Assign these labels to three equal percentile groups \n",
    "m_groups = pd.qcut(data_final['Total_Spend'], q=4, labels=m_labels)\n",
    "# Create new column M\n",
    "data_final = data_final.assign(M = m_groups.values)\n",
    "data_final.head()"
   ]
  },
  {
   "cell_type": "code",
   "execution_count": 66,
   "metadata": {},
   "outputs": [
    {
     "data": {
      "text/html": [
       "<div>\n",
       "<style scoped>\n",
       "    .dataframe tbody tr th:only-of-type {\n",
       "        vertical-align: middle;\n",
       "    }\n",
       "\n",
       "    .dataframe tbody tr th {\n",
       "        vertical-align: top;\n",
       "    }\n",
       "\n",
       "    .dataframe thead th {\n",
       "        text-align: right;\n",
       "    }\n",
       "</style>\n",
       "<table border=\"1\" class=\"dataframe\">\n",
       "  <thead>\n",
       "    <tr style=\"text-align: right;\">\n",
       "      <th></th>\n",
       "      <th>UnitPrice_Mean</th>\n",
       "      <th>InvoiceCost_Mean</th>\n",
       "      <th>Txn_InvCt</th>\n",
       "      <th>StockCode_UniqueCt</th>\n",
       "      <th>Txn_DateCt</th>\n",
       "      <th>Country_Ct</th>\n",
       "      <th>Day_Ct</th>\n",
       "      <th>Total_Quantity</th>\n",
       "      <th>Total_Spend</th>\n",
       "      <th>IFR</th>\n",
       "      <th>Recency</th>\n",
       "      <th>R</th>\n",
       "      <th>F</th>\n",
       "      <th>M</th>\n",
       "      <th>RFM_Segment_Concat</th>\n",
       "    </tr>\n",
       "    <tr>\n",
       "      <th>CustomerID</th>\n",
       "      <th></th>\n",
       "      <th></th>\n",
       "      <th></th>\n",
       "      <th></th>\n",
       "      <th></th>\n",
       "      <th></th>\n",
       "      <th></th>\n",
       "      <th></th>\n",
       "      <th></th>\n",
       "      <th></th>\n",
       "      <th></th>\n",
       "      <th></th>\n",
       "      <th></th>\n",
       "      <th></th>\n",
       "      <th></th>\n",
       "    </tr>\n",
       "  </thead>\n",
       "  <tbody>\n",
       "    <tr>\n",
       "      <td>12346</td>\n",
       "      <td>1.040000</td>\n",
       "      <td>0.000000</td>\n",
       "      <td>2</td>\n",
       "      <td>1</td>\n",
       "      <td>2</td>\n",
       "      <td>1</td>\n",
       "      <td>1</td>\n",
       "      <td>0</td>\n",
       "      <td>0.00</td>\n",
       "      <td>1.452662</td>\n",
       "      <td>326</td>\n",
       "      <td>1</td>\n",
       "      <td>1</td>\n",
       "      <td>1</td>\n",
       "      <td>111</td>\n",
       "    </tr>\n",
       "    <tr>\n",
       "      <td>12347</td>\n",
       "      <td>2.644011</td>\n",
       "      <td>23.681319</td>\n",
       "      <td>7</td>\n",
       "      <td>103</td>\n",
       "      <td>7</td>\n",
       "      <td>1</td>\n",
       "      <td>7</td>\n",
       "      <td>2458</td>\n",
       "      <td>4310.00</td>\n",
       "      <td>1.452789</td>\n",
       "      <td>3</td>\n",
       "      <td>4</td>\n",
       "      <td>3</td>\n",
       "      <td>4</td>\n",
       "      <td>434</td>\n",
       "    </tr>\n",
       "    <tr>\n",
       "      <td>12348</td>\n",
       "      <td>5.764839</td>\n",
       "      <td>57.975484</td>\n",
       "      <td>4</td>\n",
       "      <td>22</td>\n",
       "      <td>4</td>\n",
       "      <td>1</td>\n",
       "      <td>4</td>\n",
       "      <td>2341</td>\n",
       "      <td>1797.24</td>\n",
       "      <td>1.453086</td>\n",
       "      <td>76</td>\n",
       "      <td>2</td>\n",
       "      <td>2</td>\n",
       "      <td>4</td>\n",
       "      <td>224</td>\n",
       "    </tr>\n",
       "    <tr>\n",
       "      <td>12349</td>\n",
       "      <td>8.289041</td>\n",
       "      <td>24.076027</td>\n",
       "      <td>1</td>\n",
       "      <td>73</td>\n",
       "      <td>1</td>\n",
       "      <td>1</td>\n",
       "      <td>1</td>\n",
       "      <td>631</td>\n",
       "      <td>1757.55</td>\n",
       "      <td>1.452956</td>\n",
       "      <td>19</td>\n",
       "      <td>3</td>\n",
       "      <td>1</td>\n",
       "      <td>4</td>\n",
       "      <td>314</td>\n",
       "    </tr>\n",
       "    <tr>\n",
       "      <td>12350</td>\n",
       "      <td>3.841176</td>\n",
       "      <td>19.670588</td>\n",
       "      <td>1</td>\n",
       "      <td>17</td>\n",
       "      <td>1</td>\n",
       "      <td>1</td>\n",
       "      <td>1</td>\n",
       "      <td>197</td>\n",
       "      <td>334.40</td>\n",
       "      <td>1.452928</td>\n",
       "      <td>311</td>\n",
       "      <td>1</td>\n",
       "      <td>1</td>\n",
       "      <td>2</td>\n",
       "      <td>112</td>\n",
       "    </tr>\n",
       "  </tbody>\n",
       "</table>\n",
       "</div>"
      ],
      "text/plain": [
       "            UnitPrice_Mean  InvoiceCost_Mean  Txn_InvCt  StockCode_UniqueCt  \\\n",
       "CustomerID                                                                    \n",
       "12346             1.040000          0.000000          2                   1   \n",
       "12347             2.644011         23.681319          7                 103   \n",
       "12348             5.764839         57.975484          4                  22   \n",
       "12349             8.289041         24.076027          1                  73   \n",
       "12350             3.841176         19.670588          1                  17   \n",
       "\n",
       "            Txn_DateCt  Country_Ct  Day_Ct  Total_Quantity  Total_Spend  \\\n",
       "CustomerID                                                                \n",
       "12346                2           1       1               0         0.00   \n",
       "12347                7           1       7            2458      4310.00   \n",
       "12348                4           1       4            2341      1797.24   \n",
       "12349                1           1       1             631      1757.55   \n",
       "12350                1           1       1             197       334.40   \n",
       "\n",
       "                 IFR  Recency  R  F  M RFM_Segment_Concat  \n",
       "CustomerID                                                 \n",
       "12346       1.452662      326  1  1  1                111  \n",
       "12347       1.452789        3  4  3  4                434  \n",
       "12348       1.453086       76  2  2  4                224  \n",
       "12349       1.452956       19  3  1  4                314  \n",
       "12350       1.452928      311  1  1  2                112  "
      ]
     },
     "execution_count": 66,
     "metadata": {},
     "output_type": "execute_result"
    }
   ],
   "source": [
    "# Concat RFM quartile values to create RFM Segments\n",
    "def join_rfm(x): return str(x['R']) + str(x['F']) + str(x['M'])\n",
    "data_final['RFM_Segment_Concat'] = data_final.apply(join_rfm, axis=1)\n",
    "rfm = data_final\n",
    "rfm.head()"
   ]
  },
  {
   "cell_type": "code",
   "execution_count": 67,
   "metadata": {},
   "outputs": [
    {
     "name": "stdout",
     "output_type": "stream",
     "text": [
      "48\n"
     ]
    }
   ],
   "source": [
    "# Count num of unique segments\n",
    "rfm_count_unique = rfm.groupby('RFM_Segment_Concat')['RFM_Segment_Concat'].nunique()\n",
    "print(rfm_count_unique.sum())"
   ]
  },
  {
   "cell_type": "code",
   "execution_count": 68,
   "metadata": {},
   "outputs": [
    {
     "name": "stdout",
     "output_type": "stream",
     "text": [
      "CustomerID\n",
      "12346     3.0\n",
      "12347    11.0\n",
      "12348     8.0\n",
      "12349     8.0\n",
      "12350     4.0\n",
      "Name: RFM_Score, dtype: float64\n"
     ]
    }
   ],
   "source": [
    "# Calculate RFM_Score\n",
    "rfm['RFM_Score'] = rfm[['R','F','M']].sum(axis=1)\n",
    "print(rfm['RFM_Score'].head())"
   ]
  },
  {
   "cell_type": "code",
   "execution_count": 69,
   "metadata": {},
   "outputs": [
    {
     "data": {
      "text/html": [
       "<div>\n",
       "<style scoped>\n",
       "    .dataframe tbody tr th:only-of-type {\n",
       "        vertical-align: middle;\n",
       "    }\n",
       "\n",
       "    .dataframe tbody tr th {\n",
       "        vertical-align: top;\n",
       "    }\n",
       "\n",
       "    .dataframe thead th {\n",
       "        text-align: right;\n",
       "    }\n",
       "</style>\n",
       "<table border=\"1\" class=\"dataframe\">\n",
       "  <thead>\n",
       "    <tr style=\"text-align: right;\">\n",
       "      <th></th>\n",
       "      <th>UnitPrice_Mean</th>\n",
       "      <th>InvoiceCost_Mean</th>\n",
       "      <th>Txn_InvCt</th>\n",
       "      <th>StockCode_UniqueCt</th>\n",
       "      <th>Txn_DateCt</th>\n",
       "      <th>Country_Ct</th>\n",
       "      <th>Day_Ct</th>\n",
       "      <th>Total_Quantity</th>\n",
       "      <th>Total_Spend</th>\n",
       "      <th>IFR</th>\n",
       "      <th>Recency</th>\n",
       "      <th>R</th>\n",
       "      <th>F</th>\n",
       "      <th>M</th>\n",
       "      <th>RFM_Segment_Concat</th>\n",
       "      <th>RFM_Score</th>\n",
       "      <th>RFM_Level</th>\n",
       "    </tr>\n",
       "    <tr>\n",
       "      <th>CustomerID</th>\n",
       "      <th></th>\n",
       "      <th></th>\n",
       "      <th></th>\n",
       "      <th></th>\n",
       "      <th></th>\n",
       "      <th></th>\n",
       "      <th></th>\n",
       "      <th></th>\n",
       "      <th></th>\n",
       "      <th></th>\n",
       "      <th></th>\n",
       "      <th></th>\n",
       "      <th></th>\n",
       "      <th></th>\n",
       "      <th></th>\n",
       "      <th></th>\n",
       "      <th></th>\n",
       "    </tr>\n",
       "  </thead>\n",
       "  <tbody>\n",
       "    <tr>\n",
       "      <td>12346</td>\n",
       "      <td>1.040000</td>\n",
       "      <td>0.000000</td>\n",
       "      <td>2</td>\n",
       "      <td>1</td>\n",
       "      <td>2</td>\n",
       "      <td>1</td>\n",
       "      <td>1</td>\n",
       "      <td>0</td>\n",
       "      <td>0.00</td>\n",
       "      <td>1.452662</td>\n",
       "      <td>326</td>\n",
       "      <td>1</td>\n",
       "      <td>1</td>\n",
       "      <td>1</td>\n",
       "      <td>111</td>\n",
       "      <td>3.0</td>\n",
       "      <td>Require Activation</td>\n",
       "    </tr>\n",
       "    <tr>\n",
       "      <td>12347</td>\n",
       "      <td>2.644011</td>\n",
       "      <td>23.681319</td>\n",
       "      <td>7</td>\n",
       "      <td>103</td>\n",
       "      <td>7</td>\n",
       "      <td>1</td>\n",
       "      <td>7</td>\n",
       "      <td>2458</td>\n",
       "      <td>4310.00</td>\n",
       "      <td>1.452789</td>\n",
       "      <td>3</td>\n",
       "      <td>4</td>\n",
       "      <td>3</td>\n",
       "      <td>4</td>\n",
       "      <td>434</td>\n",
       "      <td>11.0</td>\n",
       "      <td>Can't Loose Them</td>\n",
       "    </tr>\n",
       "    <tr>\n",
       "      <td>12348</td>\n",
       "      <td>5.764839</td>\n",
       "      <td>57.975484</td>\n",
       "      <td>4</td>\n",
       "      <td>22</td>\n",
       "      <td>4</td>\n",
       "      <td>1</td>\n",
       "      <td>4</td>\n",
       "      <td>2341</td>\n",
       "      <td>1797.24</td>\n",
       "      <td>1.453086</td>\n",
       "      <td>76</td>\n",
       "      <td>2</td>\n",
       "      <td>2</td>\n",
       "      <td>4</td>\n",
       "      <td>224</td>\n",
       "      <td>8.0</td>\n",
       "      <td>Champions</td>\n",
       "    </tr>\n",
       "    <tr>\n",
       "      <td>12349</td>\n",
       "      <td>8.289041</td>\n",
       "      <td>24.076027</td>\n",
       "      <td>1</td>\n",
       "      <td>73</td>\n",
       "      <td>1</td>\n",
       "      <td>1</td>\n",
       "      <td>1</td>\n",
       "      <td>631</td>\n",
       "      <td>1757.55</td>\n",
       "      <td>1.452956</td>\n",
       "      <td>19</td>\n",
       "      <td>3</td>\n",
       "      <td>1</td>\n",
       "      <td>4</td>\n",
       "      <td>314</td>\n",
       "      <td>8.0</td>\n",
       "      <td>Champions</td>\n",
       "    </tr>\n",
       "    <tr>\n",
       "      <td>12350</td>\n",
       "      <td>3.841176</td>\n",
       "      <td>19.670588</td>\n",
       "      <td>1</td>\n",
       "      <td>17</td>\n",
       "      <td>1</td>\n",
       "      <td>1</td>\n",
       "      <td>1</td>\n",
       "      <td>197</td>\n",
       "      <td>334.40</td>\n",
       "      <td>1.452928</td>\n",
       "      <td>311</td>\n",
       "      <td>1</td>\n",
       "      <td>1</td>\n",
       "      <td>2</td>\n",
       "      <td>112</td>\n",
       "      <td>4.0</td>\n",
       "      <td>Needs Attention</td>\n",
       "    </tr>\n",
       "  </tbody>\n",
       "</table>\n",
       "</div>"
      ],
      "text/plain": [
       "            UnitPrice_Mean  InvoiceCost_Mean  Txn_InvCt  StockCode_UniqueCt  \\\n",
       "CustomerID                                                                    \n",
       "12346             1.040000          0.000000          2                   1   \n",
       "12347             2.644011         23.681319          7                 103   \n",
       "12348             5.764839         57.975484          4                  22   \n",
       "12349             8.289041         24.076027          1                  73   \n",
       "12350             3.841176         19.670588          1                  17   \n",
       "\n",
       "            Txn_DateCt  Country_Ct  Day_Ct  Total_Quantity  Total_Spend  \\\n",
       "CustomerID                                                                \n",
       "12346                2           1       1               0         0.00   \n",
       "12347                7           1       7            2458      4310.00   \n",
       "12348                4           1       4            2341      1797.24   \n",
       "12349                1           1       1             631      1757.55   \n",
       "12350                1           1       1             197       334.40   \n",
       "\n",
       "                 IFR  Recency  R  F  M RFM_Segment_Concat  RFM_Score  \\\n",
       "CustomerID                                                             \n",
       "12346       1.452662      326  1  1  1                111        3.0   \n",
       "12347       1.452789        3  4  3  4                434       11.0   \n",
       "12348       1.453086       76  2  2  4                224        8.0   \n",
       "12349       1.452956       19  3  1  4                314        8.0   \n",
       "12350       1.452928      311  1  1  2                112        4.0   \n",
       "\n",
       "                     RFM_Level  \n",
       "CustomerID                      \n",
       "12346       Require Activation  \n",
       "12347         Can't Loose Them  \n",
       "12348                Champions  \n",
       "12349                Champions  \n",
       "12350          Needs Attention  "
      ]
     },
     "execution_count": 69,
     "metadata": {},
     "output_type": "execute_result"
    }
   ],
   "source": [
    "# Define rfm_level function\n",
    "def rfm_level(df):\n",
    "    if df['RFM_Score'] >= 9:\n",
    "        return 'Can\\'t Loose Them'\n",
    "    elif ((df['RFM_Score'] >= 8) and (df['RFM_Score'] < 9)):\n",
    "        return 'Champions'\n",
    "    elif ((df['RFM_Score'] >= 7) and (df['RFM_Score'] < 8)):\n",
    "        return 'Loyal'\n",
    "    elif ((df['RFM_Score'] >= 6) and (df['RFM_Score'] < 7)):\n",
    "        return 'Potential'\n",
    "    elif ((df['RFM_Score'] >= 5) and (df['RFM_Score'] < 6)):\n",
    "        return 'Promising'\n",
    "    elif ((df['RFM_Score'] >= 4) and (df['RFM_Score'] < 5)):\n",
    "        return 'Needs Attention'\n",
    "    else:\n",
    "        return 'Require Activation'\n",
    "# Create a new variable RFM_Level\n",
    "rfm['RFM_Level'] = rfm.apply(rfm_level, axis=1)\n",
    "# Print the header with top 5 rows to the console\n",
    "rfm.head()"
   ]
  },
  {
   "cell_type": "code",
   "execution_count": 70,
   "metadata": {},
   "outputs": [
    {
     "data": {
      "text/plain": [
       "Index(['UnitPrice_Mean', 'InvoiceCost_Mean', 'Txn_InvCt', 'StockCode_UniqueCt',\n",
       "       'Txn_DateCt', 'Country_Ct', 'Day_Ct', 'Total_Quantity', 'Total_Spend',\n",
       "       'IFR', 'Recency', 'R', 'F', 'M', 'RFM_Segment_Concat', 'RFM_Score',\n",
       "       'RFM_Level'],\n",
       "      dtype='object')"
      ]
     },
     "execution_count": 70,
     "metadata": {},
     "output_type": "execute_result"
    }
   ],
   "source": [
    "rfm.columns\n",
    "rfm = rfm.iloc[:,7:]"
   ]
  },
  {
   "cell_type": "code",
   "execution_count": 79,
   "metadata": {},
   "outputs": [
    {
     "name": "stdout",
     "output_type": "stream",
     "text": [
      "            Frequency  MonetaryValue       IFR  Recency  R  F  M  \\\n",
      "CustomerID                                                         \n",
      "12346               0           0.00  1.452662      326  1  1  1   \n",
      "12347            2458        4310.00  1.452789        3  4  3  4   \n",
      "12348            2341        1797.24  1.453086       76  2  2  4   \n",
      "12349             631        1757.55  1.452956       19  3  1  4   \n",
      "12350             197         334.40  1.452928      311  1  1  2   \n",
      "\n",
      "           RFM_Segment_Concat  RFM_Score           RFM_Level  \n",
      "CustomerID                                                    \n",
      "12346                     111        3.0  Require Activation  \n",
      "12347                     434       11.0    Can't Loose Them  \n",
      "12348                     224        8.0           Champions  \n",
      "12349                     314        8.0           Champions  \n",
      "12350                     112        4.0     Needs Attention  \n"
     ]
    }
   ],
   "source": [
    "rfm = rfm.rename({'Total_Quantity': 'Frequency','Total_Spend':'MonetaryValue'}, axis=1)\n",
    "print(rfm.head())"
   ]
  },
  {
   "cell_type": "code",
   "execution_count": 80,
   "metadata": {},
   "outputs": [
    {
     "name": "stdout",
     "output_type": "stream",
     "text": [
      "                   Recency Frequency MonetaryValue      \n",
      "                      mean      mean          mean count\n",
      "RFM_Level                                               \n",
      "Can't Loose Them      21.0    2816.5        4826.8  1371\n",
      "Champions             49.3     723.8        1230.3   414\n",
      "Loyal                 60.4     569.9         924.0   427\n",
      "Needs Attention      181.4     177.1         300.9   556\n",
      "Potential             74.3     408.7         592.1   531\n",
      "Promising            100.1     250.8         404.4   577\n",
      "Require Activation   265.5      85.3         128.3   496\n"
     ]
    }
   ],
   "source": [
    "# Calculate average values for each RFM_Level, and return a size of each segment \n",
    "rfm_level_agg = rfm.groupby('RFM_Level').agg({\n",
    "    'Recency': 'mean',\n",
    "    'Frequency': 'mean',\n",
    "    'MonetaryValue': ['mean', 'count']\n",
    "}).round(1)\n",
    "# Print the aggregated dataset\n",
    "print(rfm_level_agg)"
   ]
  },
  {
   "cell_type": "code",
   "execution_count": 83,
   "metadata": {},
   "outputs": [
    {
     "name": "stdout",
     "output_type": "stream",
     "text": [
      "Collecting squarify\n",
      "  Downloading https://files.pythonhosted.org/packages/0b/2b/2e77c35326efec19819cd1d729540d4d235e6c2a3f37658288a363a67da5/squarify-0.4.3-py3-none-any.whl\n",
      "Installing collected packages: squarify\n",
      "Successfully installed squarify-0.4.3\n"
     ]
    }
   ],
   "source": [
    "!pip install squarify\n",
    "import squarify"
   ]
  },
  {
   "cell_type": "code",
   "execution_count": 85,
   "metadata": {},
   "outputs": [
    {
     "data": {
      "image/png": "[encoded data removed]",
      "text/plain": [
       "<Figure size 1152x648 with 1 Axes>"
      ]
     },
     "metadata": {
      "needs_background": "light"
     },
     "output_type": "display_data"
    }
   ],
   "source": [
    "#rfm_level_agg.columns = rfm_level_agg.columns.droplevel()\n",
    "rfm_level_agg.columns = ['RecencyMean','FrequencyMean','MonetaryMean', 'Count']\n",
    "#Create our plot and resize it.\n",
    "fig = plt.gcf()\n",
    "ax = fig.add_subplot()\n",
    "fig.set_size_inches(16, 9)\n",
    "squarify.plot(sizes=rfm_level_agg['Count'], \n",
    "              label=['Can\\'t Loose Them',\n",
    "                     'Champions',\n",
    "                     'Loyal',\n",
    "                     'Needs Attention',\n",
    "                     'Potential', \n",
    "                     'Promising', \n",
    "                     'Require Activation'], alpha=.6 )\n",
    "plt.title(\"RFM Segments\",fontsize=18,fontweight=\"bold\")\n",
    "plt.axis('off')\n",
    "plt.show()"
   ]
  },
  {
   "cell_type": "code",
   "execution_count": null,
   "metadata": {},
   "outputs": [],
   "source": [
    "\n"
   ]
  }
 ],
 "metadata": {
  "kernelspec": {
   "display_name": "Python 3",
   "language": "python",
   "name": "python3"
  },
  "language_info": {
   "codemirror_mode": {
    "name": "ipython",
    "version": 3
   },
   "file_extension": ".py",
   "mimetype": "text/x-python",
   "name": "python",
   "nbconvert_exporter": "python",
   "pygments_lexer": "ipython3",
   "version": "3.7.4"
  }
 },
 "nbformat": 4,
 "nbformat_minor": 4
}
