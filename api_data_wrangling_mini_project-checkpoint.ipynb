{
 "cells": [
  {
   "cell_type": "markdown",
   "metadata": {},
   "source": [
    "This exercise will require you to pull some data from the Qunadl API. Qaundl is currently the most widely used aggregator of financial market data."
   ]
  },
  {
   "cell_type": "markdown",
   "metadata": {},
   "source": [
    "As a first step, you will need to register a free account on the http://www.quandl.com website."
   ]
  },
  {
   "cell_type": "markdown",
   "metadata": {},
   "source": [
    "After you register, you will be provided with a unique API key, that you should store:"
   ]
  },
  {
   "cell_type": "code",
   "execution_count": null,
   "metadata": {
    "collapsed": true
   },
   "outputs": [],
   "source": [
    "# Store the API key as a string - according to PEP8, constants are always named in all upper case\n",
    "API_KEY = ' '"
   ]
  },
  {
   "cell_type": "markdown",
   "metadata": {},
   "source": [
    "Qaundl has a large number of data sources, but, unfortunately, most of them require a Premium subscription. Still, there are also a good number of free datasets."
   ]
  },
  {
   "cell_type": "markdown",
   "metadata": {},
   "source": [
    "For this mini project, we will focus on equities data from the Frankfurt Stock Exhange (FSE), which is available for free. We'll try and analyze the stock prices of a company called Carl Zeiss Meditec, which manufactures tools for eye examinations, as well as medical lasers for laser eye surgery: https://www.zeiss.com/meditec/int/home.html. The company is listed under the stock ticker AFX_X."
   ]
  },
  {
   "cell_type": "markdown",
   "metadata": {},
   "source": [
    "You can find the detailed Quandl API instructions here: https://docs.quandl.com/docs/time-series"
   ]
  },
  {
   "cell_type": "markdown",
   "metadata": {},
   "source": [
    "While there is a dedicated Python package for connecting to the Quandl API, we would prefer that you use the *requests* package, which can be easily downloaded using *pip* or *conda*. You can find the documentation for the package here: http://docs.python-requests.org/en/master/ "
   ]
  },
  {
   "cell_type": "markdown",
   "metadata": {},
   "source": [
    "Finally, apart from the *requests* package, you are encouraged to not use any third party Python packages, such as *pandas*, and instead focus on what's available in the Python Standard Library (the *collections* module might come in handy: https://pymotw.com/3/collections/ ).\n",
    "Also, since you won't have access to DataFrames, you are encouraged to us Python's native data structures - preferably dictionaries, though some questions can also be answered using lists.\n",
    "You can read more on these data structures here: https://docs.python.org/3/tutorial/datastructures.html"
   ]
  },
  {
   "cell_type": "markdown",
   "metadata": {},
   "source": [
    "Keep in mind that the JSON responses you will be getting from the API map almost one-to-one to Python's dictionaries. Unfortunately, they can be very nested, so make sure you read up on indexing dictionaries in the documentation provided above."
   ]
  },
  {
   "cell_type": "code",
   "execution_count": 2,
   "metadata": {},
   "outputs": [],
   "source": [
    "# First, import the relevant modules\n",
    "from collections import deque\n",
    "import requests"
   ]
  },
  {
   "cell_type": "code",
   "execution_count": 19,
   "metadata": {},
   "outputs": [],
   "source": [
    "# Now, call the Quandl API and pull out a small sample of the data (only one day) to get a glimpse\n",
    "# into the JSON structure that will be returned\n",
    "#https://www.quandl.com/data/FSE/AFX_X\n",
    "url = 'https://www.quandl.com/api/v3/datasets/FSE/AFX_X.json?api_key=&start_date=2005-02-01&end_date=2005-02-03'\n",
    "r = requests.get(url)\n",
    "json_data = r.json()"
   ]
  },
  {
   "cell_type": "code",
   "execution_count": 20,
   "metadata": {},
   "outputs": [
    {
     "name": "stdout",
     "output_type": "stream",
     "text": [
      "{'dataset': {'id': 10095370, 'dataset_code': 'AFX_X', 'database_code': 'FSE', 'name': 'Carl Zeiss Meditec (AFX_X)', 'description': 'Stock Prices for Carl Zeiss Meditec (2020-04-16) from the Frankfurt Stock Exchange.<br><br>Trading System: Xetra<br><br>ISIN: DE0005313704', 'refreshed_at': '2020-04-30T22:16:46.389Z', 'newest_available_date': '2020-04-30', 'oldest_available_date': '2000-06-07', 'column_names': ['Date', 'Open', 'High', 'Low', 'Close', 'Change', 'Traded Volume', 'Turnover', 'Last Price of the Day', 'Daily Traded Units', 'Daily Turnover'], 'frequency': 'daily', 'type': 'Time Series', 'premium': False, 'limit': None, 'transform': None, 'column_index': None, 'start_date': '2005-02-01', 'end_date': '2005-02-03', 'data': [['2005-02-03', 14.0, 14.2, 13.81, 14.0, None, 0.0, None, None, None, 0.0], ['2005-02-02', 13.3, 13.95, 13.06, 13.95, None, 0.0, None, None, None, 0.0], ['2005-02-01', 13.15, 13.28, 12.75, 13.25, None, 0.0, None, None, None, 0.0]], 'collapse': None, 'order': None, 'database_id': 6129}}\n"
     ]
    }
   ],
   "source": [
    "# Inspect the JSON structure of the object you created, and take note of how nested it is,\n",
    "# as well as the overall structure\n",
    "print(json_data)"
   ]
  },
  {
   "cell_type": "code",
   "execution_count": 21,
   "metadata": {},
   "outputs": [
    {
     "name": "stdout",
     "output_type": "stream",
     "text": [
      "id 10095370\n",
      "dataset_code AFX_X\n",
      "database_code FSE\n",
      "name Carl Zeiss Meditec (AFX_X)\n",
      "description Stock Prices for Carl Zeiss Meditec (2020-04-16) from the Frankfurt Stock Exchange.<br><br>Trading System: Xetra<br><br>ISIN: DE0005313704\n",
      "refreshed_at 2020-04-30T22:16:46.389Z\n",
      "newest_available_date 2020-04-30\n",
      "oldest_available_date 2000-06-07\n",
      "column_names ['Date', 'Open', 'High', 'Low', 'Close', 'Change', 'Traded Volume', 'Turnover', 'Last Price of the Day', 'Daily Traded Units', 'Daily Turnover']\n",
      "frequency daily\n",
      "type Time Series\n",
      "premium False\n",
      "limit None\n",
      "transform None\n",
      "column_index None\n",
      "start_date 2005-02-01\n",
      "end_date 2005-02-03\n",
      "data [['2005-02-03', 14.0, 14.2, 13.81, 14.0, None, 0.0, None, None, None, 0.0], ['2005-02-02', 13.3, 13.95, 13.06, 13.95, None, 0.0, None, None, None, 0.0], ['2005-02-01', 13.15, 13.28, 12.75, 13.25, None, 0.0, None, None, None, 0.0]]\n",
      "collapse None\n",
      "order None\n",
      "database_id 6129\n"
     ]
    }
   ],
   "source": [
    "for k, v in json_data.items():\n",
    "...     for x,y in v.items():\n",
    "            print(x,y)"
   ]
  },
  {
   "cell_type": "code",
   "execution_count": 35,
   "metadata": {},
   "outputs": [
    {
     "name": "stdout",
     "output_type": "stream",
     "text": [
      "0 id\n",
      "1 dataset_code\n",
      "2 database_code\n",
      "3 name\n",
      "4 description\n",
      "5 refreshed_at\n",
      "6 newest_available_date\n",
      "7 oldest_available_date\n",
      "8 column_names\n",
      "9 frequency\n",
      "10 type\n",
      "11 premium\n",
      "12 limit\n",
      "13 transform\n",
      "14 column_index\n",
      "15 start_date\n",
      "16 end_date\n",
      "17 data\n",
      "18 collapse\n",
      "19 order\n",
      "20 database_id\n"
     ]
    }
   ],
   "source": [
    "for k, v in json_data.items():\n",
    "    for x,y in enumerate(v):\n",
    "        print(x,y)"
   ]
  },
  {
   "cell_type": "code",
   "execution_count": 92,
   "metadata": {},
   "outputs": [
    {
     "name": "stdout",
     "output_type": "stream",
     "text": [
      "0 Date\n",
      "1 Open\n",
      "2 High\n",
      "3 Low\n",
      "4 Close\n",
      "5 Change\n",
      "6 Traded Volume\n",
      "7 Turnover\n",
      "8 Last Price of the Day\n",
      "9 Daily Traded Units\n",
      "10 Daily Turnover\n"
     ]
    }
   ],
   "source": [
    "for k, v in json_data.items():\n",
    "    for x,y in enumerate(v['column_names']):\n",
    "        print(x,y)"
   ]
  },
  {
   "cell_type": "code",
   "execution_count": 106,
   "metadata": {},
   "outputs": [
    {
     "name": "stdout",
     "output_type": "stream",
     "text": [
      "2005-02-03\n"
     ]
    }
   ],
   "source": [
    "date = [ ]\n",
    "for k, v in json_data.items():\n",
    "    for x in (v['data']):\n",
    "        date.append(x[0])\n",
    "print(max(date))    "
   ]
  },
  {
   "cell_type": "markdown",
   "metadata": {},
   "source": [
    "These are your tasks for this mini project:h\n",
    "1. Collect data from the Franfurt Stock Exchange, for the ticker AFX_X, for the whole year 2017 (keep in mind that the date format is YYYY-MM-DD).\n",
    "2. Convert the returned JSON object into a Python dictionary.\n",
    "3. Calculate what the highest and lowest opening prices were for the stock in this period.\n",
    "4. What was the largest change in any one day (based on High and Low price)?\n",
    "5. What was the largest change between any two days (based on Closing Price)?\n",
    "6. What was the average daily trading volume during this year?\n",
    "7. (Optional) What was the median trading volume during this year. (Note: you may need to implement your own function for calculating the median.)"
   ]
  },
  {
   "cell_type": "code",
   "execution_count": 107,
   "metadata": {},
   "outputs": [],
   "source": [
    "url = 'https://www.quandl.com/api/v3/datasets/FSE/AFX_X.json?api_key=&start_date=2017-01-01&end_date=2017-12-31'\n",
    "r = requests.get(url)\n",
    "data_2017 = r.json()"
   ]
  },
  {
   "cell_type": "code",
   "execution_count": 108,
   "metadata": {},
   "outputs": [
    {
     "name": "stdout",
     "output_type": "stream",
     "text": [
      "<class 'dict'>\n"
     ]
    }
   ],
   "source": [
    "print(type(data_2017))"
   ]
  },
  {
   "cell_type": "code",
   "execution_count": 109,
   "metadata": {},
   "outputs": [
    {
     "name": "stdout",
     "output_type": "stream",
     "text": [
      "2017-12-29\n"
     ]
    }
   ],
   "source": [
    "date = [ ]\n",
    "for k, v in data_2017.items():\n",
    "    for x in (v['data']):\n",
    "        date.append(x[0])\n",
    "print(max(date))   "
   ]
  },
  {
   "cell_type": "code",
   "execution_count": 133,
   "metadata": {},
   "outputs": [
    {
     "name": "stdout",
     "output_type": "stream",
     "text": [
      "The highest opening price in 2017 was 53.11. The lowest opening price in 2017 was 34.0.\n"
     ]
    }
   ],
   "source": [
    "open = [ ]\n",
    "for k, v in data_2017.items():\n",
    "    for x in (v['data']):\n",
    "        open.append(x[1])\n",
    "print('The highest opening price in 2017 was ' + str(max(list(filter(None,open)))) + \n",
    "      '. The lowest opening price in 2017 was ' + str(min(list(filter(None,open)))) +  '.')"
   ]
  },
  {
   "cell_type": "code",
   "execution_count": 141,
   "metadata": {},
   "outputs": [
    {
     "name": "stdout",
     "output_type": "stream",
     "text": [
      "The larged change within one day in 2017 was 2.81.\n"
     ]
    }
   ],
   "source": [
    "changeval = [ ]\n",
    "for k, v in data_2017.items():\n",
    "    for x in (v['data']):\n",
    "        c =  x[2]-x[3]\n",
    "        changeval.append(c)\n",
    "print('The larged change within one day in 2017 was ' + str(round(max(list(filter(None,changeval))),2)) +  '.')"
   ]
  },
  {
   "cell_type": "code",
   "execution_count": 182,
   "metadata": {},
   "outputs": [
    {
     "name": "stdout",
     "output_type": "stream",
     "text": [
      "The larged two day diff in 2017 in closing price was 3.15.\n"
     ]
    }
   ],
   "source": [
    "close = [ ]\n",
    "twoday = [ ]\n",
    "for k, v in data_2017.items():\n",
    "    for x in (v['data']):\n",
    "        close.append(x[4])\n",
    "for i in range(len(close)-2):\n",
    "    diff = abs(close[i+2] - close[i])\n",
    "    twoday.append(diff)\n",
    "print('The larged two day diff in 2017 in closing price was ' + str(round(max(list(filter(None,twoday))),2)) +  '.')"
   ]
  },
  {
   "cell_type": "code",
   "execution_count": 194,
   "metadata": {},
   "outputs": [
    {
     "name": "stdout",
     "output_type": "stream",
     "text": [
      "The average trading volume per day in 2017 was 89124.34.\n"
     ]
    }
   ],
   "source": [
    "tradingvol = [ ]\n",
    "for k, v in data_2017.items():\n",
    "    for x in (v['data']):\n",
    "        tradingvol.append(x[6])\n",
    "avgtradingvol = round(sum(tradingvol)/len(tradingvol),2)\n",
    "print('The average trading volume per day in 2017 was ' + str((avgtradingvol)) +  '.')"
   ]
  },
  {
   "cell_type": "code",
   "execution_count": 196,
   "metadata": {},
   "outputs": [
    {
     "data": {
      "text/plain": [
       "127.5"
      ]
     },
     "execution_count": 196,
     "metadata": {},
     "output_type": "execute_result"
    }
   ],
   "source": [
    "len(tradingvol)/2"
   ]
  },
  {
   "cell_type": "code",
   "execution_count": 203,
   "metadata": {},
   "outputs": [
    {
     "name": "stdout",
     "output_type": "stream",
     "text": [
      "The median vol is the following: 76443.0\n"
     ]
    }
   ],
   "source": [
    "sortedvol = sorted(tradingvol)\n",
    "print('The median vol is the following: ' + str((sortedvol[127]+sortedvol[128])/2))"
   ]
  },
  {
   "cell_type": "code",
   "execution_count": null,
   "metadata": {},
   "outputs": [],
   "source": []
  }
 ],
 "metadata": {
  "kernelspec": {
   "display_name": "Python 3",
   "language": "python",
   "name": "python3"
  },
  "language_info": {
   "codemirror_mode": {
    "name": "ipython",
    "version": 3
   },
   "file_extension": ".py",
   "mimetype": "text/x-python",
   "name": "python",
   "nbconvert_exporter": "python",
   "pygments_lexer": "ipython3",
   "version": "3.7.4"
  }
 },
 "nbformat": 4,
 "nbformat_minor": 2
}
